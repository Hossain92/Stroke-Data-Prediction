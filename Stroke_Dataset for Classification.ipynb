{
 "cells": [
  {
   "cell_type": "code",
   "execution_count": 1,
   "id": "1852eeac",
   "metadata": {},
   "outputs": [],
   "source": [
    "############################################ Mini Project by Mohammad Foysal Hossain ########################################\n",
    " ############################################ Project Name : Stroke Data| EDA and Prediction #############################\n",
    "  
   ]
  },
  {
   "cell_type": "markdown",
   "id": "6b7d8ff3",
   "metadata": {},
   "source": [
    "# Introduction"
   ]
  },
  {
   "cell_type": "markdown",
   "id": "1f4ef8b5",
   "metadata": {},
   "source": [
    " \n",
    "According to the World Health Organization (WHO) stroke is the 2nd leading cause of death globally, responsible for approximately 11% of total deaths.\n",
    "This dataset is used to predict whether a patient is likely to get stroke based on the input parameters like gender, age, various diseases, and smoking status. Each row in the data provides relavant information about the patient.\n",
    "\n",
    "\n",
    "Stroke is the sudden death of some brain cells due to lack of oxygen when the blood flow to the brain is lost by blockage or rupture of an artery to the brain, it is also a leading cause of dementia and depression.\n",
    "\n",
    "\n",
    "\n",
    "\n"
   ]
  },
  {
   "cell_type": "raw",
   "id": "f25d3242",
   "metadata": {},
   "source": [
    "Source : https://www.kaggle.com/ruthvikpvs/stroke-data-eda-and-prediction"
   ]
  },
  {
   "cell_type": "raw",
   "id": "0cd7b103",
   "metadata": {},
   "source": [
    "'''\n",
    "\n",
    "Here, I divided my project into several parts, which are : \n",
    "\n",
    "    1. Load the dataset \n",
    "    2. Understand the dataset (get familiarize with the car dataset)\n",
    "    3. Cleaning the dataset (checking the duplicate/missing value/dropping the unnecessary columns)\n",
    "    4. Relationship Analysis (Doing EDA)\n",
    "    5. chi2-test (checking relationship for the categorical variable)\n",
    "    6. Encoding\n",
    "    7. Modeling(Train and Test part)\n",
    "    8. Accuracy\n",
    "    9. Confusion Matrix\n",
    "    10.Classification Report and\n",
    "    11.K-Fold Cross Validation\n",
    "    \n",
    "'''"
   ]
  },
  {
   "cell_type": "code",
   "execution_count": 2,
   "id": "b9f34eb2",
   "metadata": {},
   "outputs": [],
   "source": [
    "#first, importing all the libraries like pandas,seaborn,matplotlib,numpy,sklearn to the python enviroment\n",
    " \n",
    "import pandas as pd\n",
    "import seaborn as sns\n",
    "sns.set_theme(style=\"whitegrid\")\n",
    "from matplotlib import pyplot as plt\n",
    "import numpy as np\n",
    "from pandas_profiling import ProfileReport\n",
    "import os\n",
    "os.chdir(r'D:\\Data Minning\\dataset')"
   ]
  },
  {
   "cell_type": "markdown",
   "id": "efd4226d",
   "metadata": {},
   "source": [
    "# Understanding the data"
   ]
  },
  {
   "cell_type": "code",
   "execution_count": 3,
   "id": "9a7f7f66",
   "metadata": {},
   "outputs": [
    {
     "data": {
      "text/html": [
       "<div>\n",
       "<style scoped>\n",
       "    .dataframe tbody tr th:only-of-type {\n",
       "        vertical-align: middle;\n",
       "    }\n",
       "\n",
       "    .dataframe tbody tr th {\n",
       "        vertical-align: top;\n",
       "    }\n",
       "\n",
       "    .dataframe thead th {\n",
       "        text-align: right;\n",
       "    }\n",
       "</style>\n",
       "<table border=\"1\" class=\"dataframe\">\n",
       "  <thead>\n",
       "    <tr style=\"text-align: right;\">\n",
       "      <th></th>\n",
       "      <th>id</th>\n",
       "      <th>gender</th>\n",
       "      <th>age</th>\n",
       "      <th>hypertension</th>\n",
       "      <th>heart_disease</th>\n",
       "      <th>ever_married</th>\n",
       "      <th>work_type</th>\n",
       "      <th>Residence_type</th>\n",
       "      <th>avg_glucose_level</th>\n",
       "      <th>bmi</th>\n",
       "      <th>smoking_status</th>\n",
       "      <th>stroke</th>\n",
       "    </tr>\n",
       "  </thead>\n",
       "  <tbody>\n",
       "    <tr>\n",
       "      <th>0</th>\n",
       "      <td>9046</td>\n",
       "      <td>Male</td>\n",
       "      <td>67.0</td>\n",
       "      <td>0</td>\n",
       "      <td>1</td>\n",
       "      <td>Yes</td>\n",
       "      <td>Private</td>\n",
       "      <td>Urban</td>\n",
       "      <td>228.69</td>\n",
       "      <td>36.6</td>\n",
       "      <td>formerly smoked</td>\n",
       "      <td>1</td>\n",
       "    </tr>\n",
       "    <tr>\n",
       "      <th>1</th>\n",
       "      <td>51676</td>\n",
       "      <td>Female</td>\n",
       "      <td>61.0</td>\n",
       "      <td>0</td>\n",
       "      <td>0</td>\n",
       "      <td>Yes</td>\n",
       "      <td>Self-employed</td>\n",
       "      <td>Rural</td>\n",
       "      <td>202.21</td>\n",
       "      <td>NaN</td>\n",
       "      <td>never smoked</td>\n",
       "      <td>1</td>\n",
       "    </tr>\n",
       "    <tr>\n",
       "      <th>2</th>\n",
       "      <td>31112</td>\n",
       "      <td>Male</td>\n",
       "      <td>80.0</td>\n",
       "      <td>0</td>\n",
       "      <td>1</td>\n",
       "      <td>Yes</td>\n",
       "      <td>Private</td>\n",
       "      <td>Rural</td>\n",
       "      <td>105.92</td>\n",
       "      <td>32.5</td>\n",
       "      <td>never smoked</td>\n",
       "      <td>1</td>\n",
       "    </tr>\n",
       "    <tr>\n",
       "      <th>3</th>\n",
       "      <td>60182</td>\n",
       "      <td>Female</td>\n",
       "      <td>49.0</td>\n",
       "      <td>0</td>\n",
       "      <td>0</td>\n",
       "      <td>Yes</td>\n",
       "      <td>Private</td>\n",
       "      <td>Urban</td>\n",
       "      <td>171.23</td>\n",
       "      <td>34.4</td>\n",
       "      <td>smokes</td>\n",
       "      <td>1</td>\n",
       "    </tr>\n",
       "    <tr>\n",
       "      <th>4</th>\n",
       "      <td>1665</td>\n",
       "      <td>Female</td>\n",
       "      <td>79.0</td>\n",
       "      <td>1</td>\n",
       "      <td>0</td>\n",
       "      <td>Yes</td>\n",
       "      <td>Self-employed</td>\n",
       "      <td>Rural</td>\n",
       "      <td>174.12</td>\n",
       "      <td>24.0</td>\n",
       "      <td>never smoked</td>\n",
       "      <td>1</td>\n",
       "    </tr>\n",
       "  </tbody>\n",
       "</table>\n",
       "</div>"
      ],
      "text/plain": [
       "      id  gender   age  hypertension  heart_disease ever_married  \\\n",
       "0   9046    Male  67.0             0              1          Yes   \n",
       "1  51676  Female  61.0             0              0          Yes   \n",
       "2  31112    Male  80.0             0              1          Yes   \n",
       "3  60182  Female  49.0             0              0          Yes   \n",
       "4   1665  Female  79.0             1              0          Yes   \n",
       "\n",
       "       work_type Residence_type  avg_glucose_level   bmi   smoking_status  \\\n",
       "0        Private          Urban             228.69  36.6  formerly smoked   \n",
       "1  Self-employed          Rural             202.21   NaN     never smoked   \n",
       "2        Private          Rural             105.92  32.5     never smoked   \n",
       "3        Private          Urban             171.23  34.4           smokes   \n",
       "4  Self-employed          Rural             174.12  24.0     never smoked   \n",
       "\n",
       "   stroke  \n",
       "0       1  \n",
       "1       1  \n",
       "2       1  \n",
       "3       1  \n",
       "4       1  "
      ]
     },
     "execution_count": 3,
     "metadata": {},
     "output_type": "execute_result"
    }
   ],
   "source": [
    "# read the the csv file through pandas and show first 5 observations \n",
    "\n",
    "df = pd.read_csv('Stroke_dataset.csv')\n",
    "df.head() "
   ]
  },
  {
   "cell_type": "code",
   "execution_count": 4,
   "id": "a16cfd29",
   "metadata": {},
   "outputs": [
    {
     "data": {
      "text/html": [
       "<div>\n",
       "<style scoped>\n",
       "    .dataframe tbody tr th:only-of-type {\n",
       "        vertical-align: middle;\n",
       "    }\n",
       "\n",
       "    .dataframe tbody tr th {\n",
       "        vertical-align: top;\n",
       "    }\n",
       "\n",
       "    .dataframe thead th {\n",
       "        text-align: right;\n",
       "    }\n",
       "</style>\n",
       "<table border=\"1\" class=\"dataframe\">\n",
       "  <thead>\n",
       "    <tr style=\"text-align: right;\">\n",
       "      <th></th>\n",
       "      <th>id</th>\n",
       "      <th>gender</th>\n",
       "      <th>age</th>\n",
       "      <th>hypertension</th>\n",
       "      <th>heart_disease</th>\n",
       "      <th>ever_married</th>\n",
       "      <th>work_type</th>\n",
       "      <th>Residence_type</th>\n",
       "      <th>avg_glucose_level</th>\n",
       "      <th>bmi</th>\n",
       "      <th>smoking_status</th>\n",
       "      <th>stroke</th>\n",
       "    </tr>\n",
       "  </thead>\n",
       "  <tbody>\n",
       "    <tr>\n",
       "      <th>5105</th>\n",
       "      <td>18234</td>\n",
       "      <td>Female</td>\n",
       "      <td>80.0</td>\n",
       "      <td>1</td>\n",
       "      <td>0</td>\n",
       "      <td>Yes</td>\n",
       "      <td>Private</td>\n",
       "      <td>Urban</td>\n",
       "      <td>83.75</td>\n",
       "      <td>NaN</td>\n",
       "      <td>never smoked</td>\n",
       "      <td>0</td>\n",
       "    </tr>\n",
       "    <tr>\n",
       "      <th>5106</th>\n",
       "      <td>44873</td>\n",
       "      <td>Female</td>\n",
       "      <td>81.0</td>\n",
       "      <td>0</td>\n",
       "      <td>0</td>\n",
       "      <td>Yes</td>\n",
       "      <td>Self-employed</td>\n",
       "      <td>Urban</td>\n",
       "      <td>125.20</td>\n",
       "      <td>40.0</td>\n",
       "      <td>never smoked</td>\n",
       "      <td>0</td>\n",
       "    </tr>\n",
       "    <tr>\n",
       "      <th>5107</th>\n",
       "      <td>19723</td>\n",
       "      <td>Female</td>\n",
       "      <td>35.0</td>\n",
       "      <td>0</td>\n",
       "      <td>0</td>\n",
       "      <td>Yes</td>\n",
       "      <td>Self-employed</td>\n",
       "      <td>Rural</td>\n",
       "      <td>82.99</td>\n",
       "      <td>30.6</td>\n",
       "      <td>never smoked</td>\n",
       "      <td>0</td>\n",
       "    </tr>\n",
       "    <tr>\n",
       "      <th>5108</th>\n",
       "      <td>37544</td>\n",
       "      <td>Male</td>\n",
       "      <td>51.0</td>\n",
       "      <td>0</td>\n",
       "      <td>0</td>\n",
       "      <td>Yes</td>\n",
       "      <td>Private</td>\n",
       "      <td>Rural</td>\n",
       "      <td>166.29</td>\n",
       "      <td>25.6</td>\n",
       "      <td>formerly smoked</td>\n",
       "      <td>0</td>\n",
       "    </tr>\n",
       "    <tr>\n",
       "      <th>5109</th>\n",
       "      <td>44679</td>\n",
       "      <td>Female</td>\n",
       "      <td>44.0</td>\n",
       "      <td>0</td>\n",
       "      <td>0</td>\n",
       "      <td>Yes</td>\n",
       "      <td>Govt_job</td>\n",
       "      <td>Urban</td>\n",
       "      <td>85.28</td>\n",
       "      <td>26.2</td>\n",
       "      <td>Unknown</td>\n",
       "      <td>0</td>\n",
       "    </tr>\n",
       "  </tbody>\n",
       "</table>\n",
       "</div>"
      ],
      "text/plain": [
       "         id  gender   age  hypertension  heart_disease ever_married  \\\n",
       "5105  18234  Female  80.0             1              0          Yes   \n",
       "5106  44873  Female  81.0             0              0          Yes   \n",
       "5107  19723  Female  35.0             0              0          Yes   \n",
       "5108  37544    Male  51.0             0              0          Yes   \n",
       "5109  44679  Female  44.0             0              0          Yes   \n",
       "\n",
       "          work_type Residence_type  avg_glucose_level   bmi   smoking_status  \\\n",
       "5105        Private          Urban              83.75   NaN     never smoked   \n",
       "5106  Self-employed          Urban             125.20  40.0     never smoked   \n",
       "5107  Self-employed          Rural              82.99  30.6     never smoked   \n",
       "5108        Private          Rural             166.29  25.6  formerly smoked   \n",
       "5109       Govt_job          Urban              85.28  26.2          Unknown   \n",
       "\n",
       "      stroke  \n",
       "5105       0  \n",
       "5106       0  \n",
       "5107       0  \n",
       "5108       0  \n",
       "5109       0  "
      ]
     },
     "execution_count": 4,
     "metadata": {},
     "output_type": "execute_result"
    }
   ],
   "source": [
    "#last five observations\n",
    "\n",
    "df.tail()"
   ]
  },
  {
   "cell_type": "code",
   "execution_count": 5,
   "id": "17e6d4ce",
   "metadata": {},
   "outputs": [
    {
     "data": {
      "text/plain": [
       "(5110, 12)"
      ]
     },
     "execution_count": 5,
     "metadata": {},
     "output_type": "execute_result"
    }
   ],
   "source": [
    "df.shape"
   ]
  },
  {
   "cell_type": "code",
   "execution_count": 6,
   "id": "1be6c8e5",
   "metadata": {},
   "outputs": [
    {
     "data": {
      "text/html": [
       "<div>\n",
       "<style scoped>\n",
       "    .dataframe tbody tr th:only-of-type {\n",
       "        vertical-align: middle;\n",
       "    }\n",
       "\n",
       "    .dataframe tbody tr th {\n",
       "        vertical-align: top;\n",
       "    }\n",
       "\n",
       "    .dataframe thead th {\n",
       "        text-align: right;\n",
       "    }\n",
       "</style>\n",
       "<table border=\"1\" class=\"dataframe\">\n",
       "  <thead>\n",
       "    <tr style=\"text-align: right;\">\n",
       "      <th></th>\n",
       "      <th>id</th>\n",
       "      <th>age</th>\n",
       "      <th>hypertension</th>\n",
       "      <th>heart_disease</th>\n",
       "      <th>avg_glucose_level</th>\n",
       "      <th>bmi</th>\n",
       "      <th>stroke</th>\n",
       "    </tr>\n",
       "  </thead>\n",
       "  <tbody>\n",
       "    <tr>\n",
       "      <th>count</th>\n",
       "      <td>5110.000000</td>\n",
       "      <td>5110.000000</td>\n",
       "      <td>5110.000000</td>\n",
       "      <td>5110.000000</td>\n",
       "      <td>5110.000000</td>\n",
       "      <td>4909.000000</td>\n",
       "      <td>5110.000000</td>\n",
       "    </tr>\n",
       "    <tr>\n",
       "      <th>mean</th>\n",
       "      <td>36517.829354</td>\n",
       "      <td>43.226614</td>\n",
       "      <td>0.097456</td>\n",
       "      <td>0.054012</td>\n",
       "      <td>106.147677</td>\n",
       "      <td>28.893237</td>\n",
       "      <td>0.048728</td>\n",
       "    </tr>\n",
       "    <tr>\n",
       "      <th>std</th>\n",
       "      <td>21161.721625</td>\n",
       "      <td>22.612647</td>\n",
       "      <td>0.296607</td>\n",
       "      <td>0.226063</td>\n",
       "      <td>45.283560</td>\n",
       "      <td>7.854067</td>\n",
       "      <td>0.215320</td>\n",
       "    </tr>\n",
       "    <tr>\n",
       "      <th>min</th>\n",
       "      <td>67.000000</td>\n",
       "      <td>0.080000</td>\n",
       "      <td>0.000000</td>\n",
       "      <td>0.000000</td>\n",
       "      <td>55.120000</td>\n",
       "      <td>10.300000</td>\n",
       "      <td>0.000000</td>\n",
       "    </tr>\n",
       "    <tr>\n",
       "      <th>25%</th>\n",
       "      <td>17741.250000</td>\n",
       "      <td>25.000000</td>\n",
       "      <td>0.000000</td>\n",
       "      <td>0.000000</td>\n",
       "      <td>77.245000</td>\n",
       "      <td>23.500000</td>\n",
       "      <td>0.000000</td>\n",
       "    </tr>\n",
       "    <tr>\n",
       "      <th>50%</th>\n",
       "      <td>36932.000000</td>\n",
       "      <td>45.000000</td>\n",
       "      <td>0.000000</td>\n",
       "      <td>0.000000</td>\n",
       "      <td>91.885000</td>\n",
       "      <td>28.100000</td>\n",
       "      <td>0.000000</td>\n",
       "    </tr>\n",
       "    <tr>\n",
       "      <th>75%</th>\n",
       "      <td>54682.000000</td>\n",
       "      <td>61.000000</td>\n",
       "      <td>0.000000</td>\n",
       "      <td>0.000000</td>\n",
       "      <td>114.090000</td>\n",
       "      <td>33.100000</td>\n",
       "      <td>0.000000</td>\n",
       "    </tr>\n",
       "    <tr>\n",
       "      <th>max</th>\n",
       "      <td>72940.000000</td>\n",
       "      <td>82.000000</td>\n",
       "      <td>1.000000</td>\n",
       "      <td>1.000000</td>\n",
       "      <td>271.740000</td>\n",
       "      <td>97.600000</td>\n",
       "      <td>1.000000</td>\n",
       "    </tr>\n",
       "  </tbody>\n",
       "</table>\n",
       "</div>"
      ],
      "text/plain": [
       "                 id          age  hypertension  heart_disease  \\\n",
       "count   5110.000000  5110.000000   5110.000000    5110.000000   \n",
       "mean   36517.829354    43.226614      0.097456       0.054012   \n",
       "std    21161.721625    22.612647      0.296607       0.226063   \n",
       "min       67.000000     0.080000      0.000000       0.000000   \n",
       "25%    17741.250000    25.000000      0.000000       0.000000   \n",
       "50%    36932.000000    45.000000      0.000000       0.000000   \n",
       "75%    54682.000000    61.000000      0.000000       0.000000   \n",
       "max    72940.000000    82.000000      1.000000       1.000000   \n",
       "\n",
       "       avg_glucose_level          bmi       stroke  \n",
       "count        5110.000000  4909.000000  5110.000000  \n",
       "mean          106.147677    28.893237     0.048728  \n",
       "std            45.283560     7.854067     0.215320  \n",
       "min            55.120000    10.300000     0.000000  \n",
       "25%            77.245000    23.500000     0.000000  \n",
       "50%            91.885000    28.100000     0.000000  \n",
       "75%           114.090000    33.100000     0.000000  \n",
       "max           271.740000    97.600000     1.000000  "
      ]
     },
     "execution_count": 6,
     "metadata": {},
     "output_type": "execute_result"
    }
   ],
   "source": [
    "#five number summary for the numerical values:\n",
    "\n",
    "df.describe()"
   ]
  },
  {
   "cell_type": "code",
   "execution_count": 7,
   "id": "cb63aa0a",
   "metadata": {},
   "outputs": [
    {
     "data": {
      "text/html": [
       "<div>\n",
       "<style scoped>\n",
       "    .dataframe tbody tr th:only-of-type {\n",
       "        vertical-align: middle;\n",
       "    }\n",
       "\n",
       "    .dataframe tbody tr th {\n",
       "        vertical-align: top;\n",
       "    }\n",
       "\n",
       "    .dataframe thead th {\n",
       "        text-align: right;\n",
       "    }\n",
       "</style>\n",
       "<table border=\"1\" class=\"dataframe\">\n",
       "  <thead>\n",
       "    <tr style=\"text-align: right;\">\n",
       "      <th></th>\n",
       "      <th>gender</th>\n",
       "      <th>ever_married</th>\n",
       "      <th>work_type</th>\n",
       "      <th>Residence_type</th>\n",
       "      <th>smoking_status</th>\n",
       "    </tr>\n",
       "  </thead>\n",
       "  <tbody>\n",
       "    <tr>\n",
       "      <th>count</th>\n",
       "      <td>5110</td>\n",
       "      <td>5110</td>\n",
       "      <td>5110</td>\n",
       "      <td>5110</td>\n",
       "      <td>5110</td>\n",
       "    </tr>\n",
       "    <tr>\n",
       "      <th>unique</th>\n",
       "      <td>2</td>\n",
       "      <td>2</td>\n",
       "      <td>5</td>\n",
       "      <td>2</td>\n",
       "      <td>4</td>\n",
       "    </tr>\n",
       "    <tr>\n",
       "      <th>top</th>\n",
       "      <td>Female</td>\n",
       "      <td>Yes</td>\n",
       "      <td>Private</td>\n",
       "      <td>Urban</td>\n",
       "      <td>never smoked</td>\n",
       "    </tr>\n",
       "    <tr>\n",
       "      <th>freq</th>\n",
       "      <td>2995</td>\n",
       "      <td>3353</td>\n",
       "      <td>2925</td>\n",
       "      <td>2596</td>\n",
       "      <td>1892</td>\n",
       "    </tr>\n",
       "  </tbody>\n",
       "</table>\n",
       "</div>"
      ],
      "text/plain": [
       "        gender ever_married work_type Residence_type smoking_status\n",
       "count     5110         5110      5110           5110           5110\n",
       "unique       2            2         5              2              4\n",
       "top     Female          Yes   Private          Urban   never smoked\n",
       "freq      2995         3353      2925           2596           1892"
      ]
     },
     "execution_count": 7,
     "metadata": {},
     "output_type": "execute_result"
    }
   ],
   "source": [
    "#most frequent variable in the dataset with it's unique count\n",
    "\n",
    "df.describe(include=object)"
   ]
  },
  {
   "cell_type": "code",
   "execution_count": 8,
   "id": "12e5b767",
   "metadata": {},
   "outputs": [
    {
     "data": {
      "text/plain": [
       "Index(['id', 'gender', 'age', 'hypertension', 'heart_disease', 'ever_married',\n",
       "       'work_type', 'Residence_type', 'avg_glucose_level', 'bmi',\n",
       "       'smoking_status', 'stroke'],\n",
       "      dtype='object')"
      ]
     },
     "execution_count": 8,
     "metadata": {},
     "output_type": "execute_result"
    }
   ],
   "source": [
    "df.columns"
   ]
  },
  {
   "cell_type": "code",
   "execution_count": 9,
   "id": "66248cf9",
   "metadata": {},
   "outputs": [
    {
     "data": {
      "text/plain": [
       "id                   5110\n",
       "gender                  2\n",
       "age                   104\n",
       "hypertension            2\n",
       "heart_disease           2\n",
       "ever_married            2\n",
       "work_type               5\n",
       "Residence_type          2\n",
       "avg_glucose_level    3979\n",
       "bmi                   418\n",
       "smoking_status          4\n",
       "stroke                  2\n",
       "dtype: int64"
      ]
     },
     "execution_count": 9,
     "metadata": {},
     "output_type": "execute_result"
    }
   ],
   "source": [
    "# checking all the unique values for each of the features\n",
    "\n",
    "df.nunique()"
   ]
  },
  {
   "cell_type": "code",
   "execution_count": 10,
   "id": "0824851b",
   "metadata": {},
   "outputs": [
    {
     "data": {
      "text/plain": [
       "(array(['Male', 'Female'], dtype=object),\n",
       " array(['formerly smoked', 'never smoked', 'smokes', 'Unknown'],\n",
       "       dtype=object),\n",
       " array(['Private', 'Self-employed', 'Govt_job', 'children', 'Never_worked'],\n",
       "       dtype=object))"
      ]
     },
     "execution_count": 10,
     "metadata": {},
     "output_type": "execute_result"
    }
   ],
   "source": [
    "#some of the unique names of the features \n",
    "\n",
    "df['gender'].unique(),df['smoking_status'].unique(),df['work_type'].unique()"
   ]
  },
  {
   "cell_type": "code",
   "execution_count": 11,
   "id": "bb3fcfa2",
   "metadata": {},
   "outputs": [
    {
     "name": "stdout",
     "output_type": "stream",
     "text": [
      "<class 'pandas.core.frame.DataFrame'>\n",
      "RangeIndex: 5110 entries, 0 to 5109\n",
      "Data columns (total 12 columns):\n",
      " #   Column             Non-Null Count  Dtype  \n",
      "---  ------             --------------  -----  \n",
      " 0   id                 5110 non-null   int64  \n",
      " 1   gender             5110 non-null   object \n",
      " 2   age                5110 non-null   float64\n",
      " 3   hypertension       5110 non-null   int64  \n",
      " 4   heart_disease      5110 non-null   int64  \n",
      " 5   ever_married       5110 non-null   object \n",
      " 6   work_type          5110 non-null   object \n",
      " 7   Residence_type     5110 non-null   object \n",
      " 8   avg_glucose_level  5110 non-null   float64\n",
      " 9   bmi                4909 non-null   float64\n",
      " 10  smoking_status     5110 non-null   object \n",
      " 11  stroke             5110 non-null   int64  \n",
      "dtypes: float64(3), int64(4), object(5)\n",
      "memory usage: 479.2+ KB\n"
     ]
    }
   ],
   "source": [
    "df.info()"
   ]
  },
  {
   "cell_type": "markdown",
   "id": "8a95a373",
   "metadata": {},
   "source": [
    "# Cleaning the data"
   ]
  },
  {
   "cell_type": "code",
   "execution_count": 12,
   "id": "e7bad72e",
   "metadata": {},
   "outputs": [
    {
     "data": {
      "text/plain": [
       "0"
      ]
     },
     "execution_count": 12,
     "metadata": {},
     "output_type": "execute_result"
    }
   ],
   "source": [
    "#duplicate values \n",
    "\n",
    "df.duplicated().sum()"
   ]
  },
  {
   "cell_type": "code",
   "execution_count": 13,
   "id": "7f47d3fa",
   "metadata": {},
   "outputs": [
    {
     "data": {
      "text/html": [
       "<div>\n",
       "<style scoped>\n",
       "    .dataframe tbody tr th:only-of-type {\n",
       "        vertical-align: middle;\n",
       "    }\n",
       "\n",
       "    .dataframe tbody tr th {\n",
       "        vertical-align: top;\n",
       "    }\n",
       "\n",
       "    .dataframe thead th {\n",
       "        text-align: right;\n",
       "    }\n",
       "</style>\n",
       "<table border=\"1\" class=\"dataframe\">\n",
       "  <thead>\n",
       "    <tr style=\"text-align: right;\">\n",
       "      <th></th>\n",
       "      <th>gender</th>\n",
       "      <th>age</th>\n",
       "      <th>hypertension</th>\n",
       "      <th>heart_disease</th>\n",
       "      <th>avg_glucose_level</th>\n",
       "      <th>bmi</th>\n",
       "      <th>smoking_status</th>\n",
       "      <th>stroke</th>\n",
       "    </tr>\n",
       "  </thead>\n",
       "  <tbody>\n",
       "    <tr>\n",
       "      <th>0</th>\n",
       "      <td>Male</td>\n",
       "      <td>67.0</td>\n",
       "      <td>0</td>\n",
       "      <td>1</td>\n",
       "      <td>228.69</td>\n",
       "      <td>36.6</td>\n",
       "      <td>formerly smoked</td>\n",
       "      <td>1</td>\n",
       "    </tr>\n",
       "    <tr>\n",
       "      <th>1</th>\n",
       "      <td>Female</td>\n",
       "      <td>61.0</td>\n",
       "      <td>0</td>\n",
       "      <td>0</td>\n",
       "      <td>202.21</td>\n",
       "      <td>NaN</td>\n",
       "      <td>never smoked</td>\n",
       "      <td>1</td>\n",
       "    </tr>\n",
       "    <tr>\n",
       "      <th>2</th>\n",
       "      <td>Male</td>\n",
       "      <td>80.0</td>\n",
       "      <td>0</td>\n",
       "      <td>1</td>\n",
       "      <td>105.92</td>\n",
       "      <td>32.5</td>\n",
       "      <td>never smoked</td>\n",
       "      <td>1</td>\n",
       "    </tr>\n",
       "    <tr>\n",
       "      <th>3</th>\n",
       "      <td>Female</td>\n",
       "      <td>49.0</td>\n",
       "      <td>0</td>\n",
       "      <td>0</td>\n",
       "      <td>171.23</td>\n",
       "      <td>34.4</td>\n",
       "      <td>smokes</td>\n",
       "      <td>1</td>\n",
       "    </tr>\n",
       "    <tr>\n",
       "      <th>4</th>\n",
       "      <td>Female</td>\n",
       "      <td>79.0</td>\n",
       "      <td>1</td>\n",
       "      <td>0</td>\n",
       "      <td>174.12</td>\n",
       "      <td>24.0</td>\n",
       "      <td>never smoked</td>\n",
       "      <td>1</td>\n",
       "    </tr>\n",
       "  </tbody>\n",
       "</table>\n",
       "</div>"
      ],
      "text/plain": [
       "   gender   age  hypertension  heart_disease  avg_glucose_level   bmi  \\\n",
       "0    Male  67.0             0              1             228.69  36.6   \n",
       "1  Female  61.0             0              0             202.21   NaN   \n",
       "2    Male  80.0             0              1             105.92  32.5   \n",
       "3  Female  49.0             0              0             171.23  34.4   \n",
       "4  Female  79.0             1              0             174.12  24.0   \n",
       "\n",
       "    smoking_status  stroke  \n",
       "0  formerly smoked       1  \n",
       "1     never smoked       1  \n",
       "2     never smoked       1  \n",
       "3           smokes       1  \n",
       "4     never smoked       1  "
      ]
     },
     "execution_count": 13,
     "metadata": {},
     "output_type": "execute_result"
    }
   ],
   "source": [
    "# dropping some columns \n",
    "\n",
    "df_new = df.drop(['id','ever_married','work_type','Residence_type'],axis = 1)\n",
    "df_new.head()"
   ]
  },
  {
   "cell_type": "code",
   "execution_count": 14,
   "id": "cc632ae5",
   "metadata": {},
   "outputs": [
    {
     "data": {
      "text/html": [
       "<div>\n",
       "<style scoped>\n",
       "    .dataframe tbody tr th:only-of-type {\n",
       "        vertical-align: middle;\n",
       "    }\n",
       "\n",
       "    .dataframe tbody tr th {\n",
       "        vertical-align: top;\n",
       "    }\n",
       "\n",
       "    .dataframe thead th {\n",
       "        text-align: right;\n",
       "    }\n",
       "</style>\n",
       "<table border=\"1\" class=\"dataframe\">\n",
       "  <thead>\n",
       "    <tr style=\"text-align: right;\">\n",
       "      <th></th>\n",
       "      <th>gender</th>\n",
       "      <th>age</th>\n",
       "      <th>hypertension</th>\n",
       "      <th>heart_disease</th>\n",
       "      <th>avg_glucose_level</th>\n",
       "      <th>bmi</th>\n",
       "      <th>smoking_status</th>\n",
       "      <th>stroke</th>\n",
       "    </tr>\n",
       "  </thead>\n",
       "  <tbody>\n",
       "    <tr>\n",
       "      <th>0</th>\n",
       "      <td>Male</td>\n",
       "      <td>67.0</td>\n",
       "      <td>0</td>\n",
       "      <td>1</td>\n",
       "      <td>228.69</td>\n",
       "      <td>36.6</td>\n",
       "      <td>formerly smoked</td>\n",
       "      <td>1</td>\n",
       "    </tr>\n",
       "    <tr>\n",
       "      <th>1</th>\n",
       "      <td>Female</td>\n",
       "      <td>61.0</td>\n",
       "      <td>0</td>\n",
       "      <td>0</td>\n",
       "      <td>202.21</td>\n",
       "      <td>NaN</td>\n",
       "      <td>never smoked</td>\n",
       "      <td>1</td>\n",
       "    </tr>\n",
       "    <tr>\n",
       "      <th>2</th>\n",
       "      <td>Male</td>\n",
       "      <td>80.0</td>\n",
       "      <td>0</td>\n",
       "      <td>1</td>\n",
       "      <td>105.92</td>\n",
       "      <td>32.5</td>\n",
       "      <td>never smoked</td>\n",
       "      <td>1</td>\n",
       "    </tr>\n",
       "    <tr>\n",
       "      <th>3</th>\n",
       "      <td>Female</td>\n",
       "      <td>49.0</td>\n",
       "      <td>0</td>\n",
       "      <td>0</td>\n",
       "      <td>171.23</td>\n",
       "      <td>34.4</td>\n",
       "      <td>smokes</td>\n",
       "      <td>1</td>\n",
       "    </tr>\n",
       "    <tr>\n",
       "      <th>4</th>\n",
       "      <td>Female</td>\n",
       "      <td>79.0</td>\n",
       "      <td>1</td>\n",
       "      <td>0</td>\n",
       "      <td>174.12</td>\n",
       "      <td>24.0</td>\n",
       "      <td>never smoked</td>\n",
       "      <td>1</td>\n",
       "    </tr>\n",
       "  </tbody>\n",
       "</table>\n",
       "</div>"
      ],
      "text/plain": [
       "   gender   age  hypertension  heart_disease  avg_glucose_level   bmi  \\\n",
       "0    Male  67.0             0              1             228.69  36.6   \n",
       "1  Female  61.0             0              0             202.21   NaN   \n",
       "2    Male  80.0             0              1             105.92  32.5   \n",
       "3  Female  49.0             0              0             171.23  34.4   \n",
       "4  Female  79.0             1              0             174.12  24.0   \n",
       "\n",
       "    smoking_status  stroke  \n",
       "0  formerly smoked       1  \n",
       "1     never smoked       1  \n",
       "2     never smoked       1  \n",
       "3           smokes       1  \n",
       "4     never smoked       1  "
      ]
     },
     "execution_count": 14,
     "metadata": {},
     "output_type": "execute_result"
    }
   ],
   "source": [
    "#substituting: \n",
    "\n",
    "df = df_new\n",
    "df.head()"
   ]
  },
  {
   "cell_type": "code",
   "execution_count": 15,
   "id": "4eade36a",
   "metadata": {},
   "outputs": [
    {
     "data": {
      "text/plain": [
       "gender                 0\n",
       "age                    0\n",
       "hypertension           0\n",
       "heart_disease          0\n",
       "avg_glucose_level      0\n",
       "bmi                  201\n",
       "smoking_status         0\n",
       "stroke                 0\n",
       "dtype: int64"
      ]
     },
     "execution_count": 15,
     "metadata": {},
     "output_type": "execute_result"
    }
   ],
   "source": [
    "#checking the missing/null values \n",
    "\n",
    "df.isna().sum()"
   ]
  },
  {
   "cell_type": "code",
   "execution_count": 16,
   "id": "0030c49d",
   "metadata": {},
   "outputs": [
    {
     "data": {
      "text/plain": [
       "gender               0\n",
       "age                  0\n",
       "hypertension         0\n",
       "heart_disease        0\n",
       "avg_glucose_level    0\n",
       "bmi                  0\n",
       "smoking_status       0\n",
       "stroke               0\n",
       "dtype: int64"
      ]
     },
     "execution_count": 16,
     "metadata": {},
     "output_type": "execute_result"
    }
   ],
   "source": [
    "# fill up missing values \n",
    "\n",
    "df_new.fillna({\"bmi\":df.bmi.mean()},inplace =True)\n",
    "df_new.isna().sum()"
   ]
  },
  {
   "cell_type": "markdown",
   "id": "9e84296d",
   "metadata": {},
   "source": [
    "# Relationship Analysis"
   ]
  },
  {
   "cell_type": "code",
   "execution_count": 17,
   "id": "245e5b1b",
   "metadata": {},
   "outputs": [
    {
     "data": {
      "text/plain": [
       "<AxesSubplot:>"
      ]
     },
     "execution_count": 17,
     "metadata": {},
     "output_type": "execute_result"
    },
    {
     "data": {
      "image/png": "iVBORw0KGgoAAAANSUhEUgAAAb8AAAFPCAYAAADdgcBrAAAAOXRFWHRTb2Z0d2FyZQBNYXRwbG90bGliIHZlcnNpb24zLjMuNCwgaHR0cHM6Ly9tYXRwbG90bGliLm9yZy8QVMy6AAAACXBIWXMAAAsTAAALEwEAmpwYAABE9ElEQVR4nO3deVxU1f/H8RcCoka4BeKeWWqL5oKBZUhYuQKC5hqYmZoFpj+lXHHP3M1cSr8t5oIroASiuaTfb5rb11zKzHJFFDQMFBdgZn5/+HN+Iqgk6AzO+/l48HDumXPv/cw88H445557jp3JZDIhIiJiQ4pZOgAREZEHTclPRERsjpKfiIjYHCU/ERGxOUp+IiJic5T8RETE5ij5iYjIA3Xp0iXatm1LYmJirvcOHTpEUFAQLVq0YNiwYWRnZwOQlJREt27daNmyJX379iUjI6NAMSj5iYjIA7Nv3z66dOnC8ePH83w/PDyciIgI1q1bh8lkYvny5QCMHj2arl27kpCQwHPPPcecOXMKFIeSn4iIFFh6ejqJiYm5ftLT03PUW758OSNHjsTNzS3XMU6fPs3Vq1epX78+AEFBQSQkJJCVlcWuXbto0aJFjvKCcCjQ3vJA2dnZWToEESkiCmPyrj59+uS77nPPPcesWbNylYeGhhIWFmbeHj9+/G2PkZKSgqurq3nb1dWV5ORkLly4gLOzMw4ODjnKC0LJT0RECqx79+4EBgbmKndxccn3MYxGY44/8k0mE3Z2duZ/b1bQxoCSn4iIFJiLi8s/SnR5cXd359y5c+bt8+fP4+bmRrly5bh48SIGgwF7e3vOnTuXZ7fpP6HkV0T17t3b0iHc1rx58/IsT1phvbeYK71hzLPcWmO+Xby9l1R7wJHk37yuJ/Mst9bvGIre93y777ioqFy5Mk5OTuzZs4dGjRqxevVqvL29cXR0xMPDg/j4ePz8/IiJicHb27tA57Le3zoREbEJvXr14sCBAwBMmTKFCRMm0LJlSy5fvkxISAgAI0eOZPny5bRu3Zrdu3fTv3//Ap1TLT8REXngNm3aZH49f/588+s6deqwcuXKXPUrV67MwoULC+38avmJiIjNUfITERGbo+QnIiI2R8lPRERsjpKfiIjYHCU/ERGxOUp+IiJic5T8RETE5ij5iYiIzVHyExERm6PkJyIiNkdzexZQdnY2o0aN4siRI5w/f57atWszbdo0li9fzqJFi3j00Ud54oknqFatGmFhYWzdupWZM2eSnZ1NlSpVGDt2LGXLlrX0xxARsSlq+RXQ3r17cXR0ZNmyZXz//fdcvHiRf/3rXyxevJioqCiWLFnCiRMnAEhNTWXq1Kl8+eWXxMTE0LRpU6ZMmWLhTyAiYnvU8iugxo0bU6ZMGRYvXszRo0c5fvw4np6evPLKKzg7OwPQpk0b0tPT2bdvH2fOnDEv0WE0GildurQlwxcRsUlKfgW0ceNGZs6cSUhICEFBQVy4cIFHH32U9PT0XHUNBgMNGzbk888/B+DatWtkZGQ86JBFRGyeuj0LaPv27bRq1Yr27dvj4uLCjh07ANiyZQuXLl0iMzOT9evXY2dnx/PPP8/PP//MsWPHAJgzZw6TJk2yZPgiIjZJLb8CeuONNxg0aBBxcXE4OjrSsGFDUlNTCQkJoVOnTpQqVYqyZcvi5OSEq6srH3/8Mf3798doNFKhQgUmT55s6Y8gImJzlPwKqHbt2sTGxuYoO3bsGFu2bCEuLg6Avn37UrNmTQB8fX3x9fV94HGKiMj/U/K7DypXrsyBAwdo27YtdnZ2NG3alFdeecXSYYmIWIXY2Fjmzp1LdnY23bt3p1u3bub3Dh06xODBg83bqamplC5dmu+++47o6GimTp1K+fLlAfDx8WHAgAH3FIOS331QvHhxpk6daukwRESsTnJyMtOnTycqKorixYvTuXNnPD09efLJJwF4+umnWb16NQBXrlzhjTfeYNSoUQAcPHiQwYMH07Zt2wLHoQEvIiJSYOnp6SQmJub6uXXk+7Zt2/Dy8qJMmTKUKlWKFi1akJCQkOcxv/jiCxo3boyHhwcABw4cIDo6Gj8/PwYNGkRaWto9x6vkJyIiBbZgwQKaN2+e62fBggU56qWkpODq6mrednNzIzk5OdfxLl68yPLlywkNDTWXubq68t5777FmzRoqVqzImDFj7jledXuKiEiefMqszXfdNt0nExgYmKvcxcUlx7bRaMTOzs68bTKZcmzfsGbNGl599VXz/T2A2bNnm1+/8847vPbaa/mO71Zq+YmISIG5uLhQpUqVXD+3Jj93d3fOnTtn3j537hxubm65jrdhwwZat25t3r548SLffPONedtkMmFvb3/P8Sr5iYjIA/Piiy+yfft2UlNTuXLlCuvXr8fb2ztHHZPJxC+//EKDBg3MZaVKleJf//oX+/btA2DRokUFavmp21NERB6YChUqMGDAAEJCQsjKyqJDhw7Uq1ePXr160a9fP+rWrUtqaiqOjo44OTmZ97O3t2fGjBmMGjWKq1ev8vjjjxdohiwlPxEReaD8/Pzw8/PLUTZ//nzz6/Lly/Pjjz/m2s/Dw4Po6OhCicHOZDKZCuVIct/ldVNYRCQvhXFpj/yoWr7rdpl4ssDne5B0z09ERGyOkp+IiNgcJT8REbE5Sn4iImJzlPxERMTm6FGHIipphfX+3VLpDWOe5b17937AkeTfvHnz8izvvST/o90epHld8x5ZZ63xgmJ+EG4Xr+RmvVdQERGR+0TJT0REbI6Sn4iI2BwlPxERsTlKfiIiYnOU/ERExOYo+YmIiM1R8hMREZuj5CciIjZHyU9ERGyOkp+IiNgcJT8REbE5VpX8duzYQXBw8AM51+bNm/n6668L9Zi9evUiOTm5UI8pIvKwiY2NpXXr1rz++ussXrw41/uzZs3ilVdeISAggICAAHOdpKQkunXrRsuWLenbty8ZGRn3HIPNrupw8ODBQj/m/PnzC/2YIiIPk+TkZKZPn05UVBTFixenc+fOeHp68uSTT5rrHDx4kGnTptGgQYMc+44ePZquXbvSpk0bZs+ezZw5cwgPD7+nOKwu+aWmptKrVy9OnjxJjRo1eOqppyhWrBgDBgwAYPDgwXh7e7N161acnJw4cOAAGRkZ9O3bl3bt2pGRkcGYMWM4cuQIBoOBXr160bZtW6KiooiOjubvv/+mevXq7N27F4BKlSrRsmXL2+7z73//m7S0NE6dOsVLL73EqFGjOHv2LIMGDeLy5csUK1aM4cOHU79+fXx9ffn222+pVKkSH3/8Mdu3b8fOzg5/f3969+7Njh07+OKLLyhRogR//vkntWvXZsqUKRQvXtySX7mISIGlp6eTnp6eq9zFxQUXFxfz9rZt2/Dy8qJMmTIAtGjRgoSEBEJDQ811Dh48yBdffMHp06dp3LgxH330EcWKFWPXrl3Mnj0bgKCgIN58882HJ/klJSXx+eefU7lyZTp27MjLL7/Ml19+Sf/+/bl69So//fQTo0ePZuvWrZw6dYply5bx119/ERQUxEsvvcSCBQt49tlnmThxIpcuXaJz5848//zzwPW/OOLj43FwcOCzzz4DoH379kyZMuW2++zdu5fvvvsOe3t7WrZsSZcuXfj+++/x8fHhnXfeYevWrezZs4f69eubP0NkZCRnzpxhzZo1ZGZmEhwcTK1atShZsiR79+5l7dq1uLm50bFjR/7zn//g6+v7wL9nEZG78Wl8Ot91FyxYwKxZs3KVh4aGEhYWZt5OSUnB1dXVvO3m5sb+/fvN2xkZGTz99NOEh4dTvXp1Bg8ezJw5c+jWrRvOzs44OFxPW66urgW6zWR1ya9OnTpUrVoVgJo1a1KqVCkqV67Mrl27SEpKolmzZjg5OQHXM7+joyPu7u40bNiQPXv2sG3bNq5evcqqVasAuHz5MkeOHAHgmWeeMX9xN7vTPg0aNMDZ2RmAqlWrkpaWRpMmTQgLC+PQoUM0a9aMN998M8fxduzYQWBgIPb29pQsWRI/Pz+2b9+Or68vTz31FO7u7ubPl5aWVthfoYjIA9e9e3cCAwNzld/c6gMwGo3Y2dmZt00mU47tRx55JMctpLfffpuhQ4fStWvXHPWAXNv/hNUlv5uTk52dHSaTifbt2/Pdd9+RlJSU4y8Ie3t782uj0YiDgwNGo5HJkyfz7LPPAnD+/HlKly5NbGwsJUqUyPOcd9rnRqK9OZ5GjRoRFxfHDz/8QHx8PNHR0TkGzxiNOVcyN5lMGAwGgDyPJyJS1N3avXk77u7u7N6927x97tw53NzczNtJSUls27aNDh06ANevnw4ODpQrV46LFy9iMBiwt7fPtd8/ZVWjPW+nZcuWbN++nfPnz5u7IwHWrl2LyWTi9OnT7N+/n0aNGuHl5UVkZCRwvXnt7+/PmTNnch3T3t6e7OxsgHzvc8OkSZNYs2YNgYGBRERE8Ouvv+Z438vLi5iYGAwGA1euXCE2NhZPT88Cfw8iIkXdiy++yPbt20lNTeXKlSusX78eb29v8/slSpRg8uTJnDp1CpPJxOLFi3nttddwdHTEw8OD+Ph4AGJiYnLs909ZXcsvLyVKlKB+/frUqlUrR/nVq1dp3749mZmZjBkzhrJlyxIaGsqoUaNo27YtBoOB8PBwqlWrluMvDcB8E/Wxxx7L9z43BAcHM3DgQKKiorC3t2fixIk53u/UqRPHjx8nICCArKws/Pz8eO2119ixY0fhfjEiIkVMhQoVGDBgACEhIWRlZdGhQwfq1atHr1696NevH3Xr1mXMmDH07duXrKwsGjZsSI8ePQAYOXIkgwcPZu7cuVSsWJFp06bdcxx2JivvdzOZTGRkZNCpUye++eYb843SwYMH88ILLxAUFGThCB+cm/u3k1ZYb6O90hvGPMt79+79gCPJv3nz5uVZ3ntJtQccSf7M63oyz3JrjRcU84Nwc7yFcWk/s9L+7pX+T8UOhgKf70Gy3ivo/zlw4AC+vr507NgxxwghERGRe2X13Z716tVj586duco/+eQTC0QjIiIPA6tv+YmIiBQ2JT8REbE5Sn4iImJzlPxERMTmKPmJiIjNUfITERGbo+QnIiI2x+pneJH/V5AZzEXEtmiGlztTy09ERGyOkp+IiNgcJT8REbE5Sn4iImJzlPxERMTmWP2qDpK3Irmen5WugQZ3WLfNStcgLGrrD0LRWxsPil7Mt4tXcrPeK6iIiMh9ouQnIiI2R8lPREQeqNjYWFq3bs3rr7/O4sWLc72/YcMGAgIC8Pf357333iMtLQ2A6OhomjZtSkBAAAEBAUyfPv2eY9A9PxEReWCSk5OZPn06UVFRFC9enM6dO+Pp6cmTTz4JwKVLlxg1ahSrVq2iQoUKfPrpp3z22WcMHz6cgwcPMnjwYNq2bVvgONTyExGRAktPTycxMTHXT3p6eo5627Ztw8vLizJlylCqVClatGhBQkKC+f2srCxGjhxJhQoVAKhduzZnzpwB4MCBA0RHR+Pn58egQYPMLcJ7oZafiIjkaVRWlXzXfW7BAmbNmpWrPDQ0lLCwMPN2SkoKrq6u5m03Nzf2799v3i5btiyvvfYaAFevXmXevHkEBwcD4Orqyttvv03Dhg2ZNm0aY8aMYerUqf/4c4GSn4iIFILu3bsTGBiYq9zFxSXHttFozDFJv8lkynPS/osXL/L+++9Tp04d83Fnz55tfv+dd94xJ8l7oeQnIiIF5uLikivR5cXd3Z3du3ebt8+dO4ebm1uOOikpKfTs2RMvLy+GDh0KXE+Gq1at4q233gKuJ017+/yvOnEr3fMTEZEH5sUXX2T79u2kpqZy5coV1q9fj7e3t/l9g8HAu+++S6tWrRg2bJi5VViqVCn+9a9/sW/fPgAWLVqklp+IiBQNFSpUYMCAAYSEhJCVlUWHDh2oV68evXr1ol+/fpw9e5Zff/0Vg8HAunXrAHjuuecYP348M2bMYNSoUVy9epXHH3+cSZMm3XMcSn4iIvJA+fn54efnl6Ns/vz5ANStW5fffvstz/08PDyIjo4ulBjU7SkiIjbHIslvx44d5qGrhemfHvPmOIYNG8aBAwcKPSYREbE+D1W3586dO+953/HjxxdiJCIiYs0slvxSU1Pp1asXJ0+epEaNGsycOZP4+HgWLFiA0Wjk2WefZeTIkTg5ObFo0SJWr17NlStXcHR0ZOrUqTzxxBP4+vpSr149Dh06RJMmTQB44403WLFixW3P+5///IcJEybg5OREjRo1zOXBwcGEhoZSvXp1Bg0axOXLlylWrBjDhw+nfv367N+/nwkTJnD16lXKli3L6NGjqVq1Kjt37mT69OlcvXqV9PR0hgwZwquvvkpsbCz/+te/sLe3p0qVKkyePBknJyfmzZvH2rVrMRgMNG3alPDw8DyfcRERkfvHYvf8kpKSiIiIYO3atZw/f54VK1awfPlyli5dyurVqylfvjxffvklly5dYsOGDSxcuJDvvvsOHx+fHBOhent7s27dOkaNGgVwx8SXmZnJ4MGDmTlzJlFRUZQoUSJXnZUrV+Lj40NUVBT9+vVjz549ZGZmMnz4cKZOnUp0dDQ9evRgxIgRwPXhtuPGjSM6Oppx48bx6aefAjBjxgy++uoroqKiqFy5MkePHmXr1q0cPHiQlStXEhMTQ3JyMmvWrCnEb1VERPLDYi2/OnXqULVqVQBq1qzJhQsXOHHiBB07dgSuz+/2zDPP4OzszNSpU4mLi+P48eP8+9//5umnnzYf5/nnn8/3OQ8fPoybmxs1a9YEIDAw0JysbmjSpAlhYWEcOnSIZs2a8eabb3L8+HFOnTpF3759zfUuXboEwOTJk9m8eTMJCQns27ePjIwMAF555RW6dOnCq6++SosWLXj66adZs2YN+/fvJygoCLg+dU+lSpX+6VcnIiIFZLHk5+Dw/6e2s7Pj0UcfpVWrVgwfPhyAjIwMDAYDZ86cITg4mDfffBNvb28ee+wxDh06ZN7Xyckp3+e0s7PDZDKZt/OaHaBRo0bExcXxww8/EB8fT3R0NB999BFVqlRh9erVwPWHMM+fPw9A165d8fT0xNPTkyZNmjBo0CAAhg8fzm+//caWLVsIDw8nNDQUg8FA9+7d6dGjB3B9ItiCzFAgIiL3xqoedfj+++/566+/MJlMjBo1igULFnDgwAGqV6/OW2+9Rd26ddmwYQMGgyHP/e3t7cnOzr7t8WvXrs358+fNz5DExcXlqjNp0iTWrFlDYGAgERER/PrrrzzxxBOkpaWZp+RZtWoVgwYN4u+//+b48eN88MEHeHt7s3HjRgwGA9nZ2bz++uuULVuWPn36EBAQwKFDh/Dy8mL16tVkZGSQnZ3N+++/b36IU0REHhyrGe356KOPEhoaSvfu3TEajTz99NP07t2b7OxsIiMjad26NSaTicaNG3PkyJE8j9G8eXMCAgKIiorKs0Xo6OjItGnTCA8Px8HBgWeeeSZXneDgYAYOHEhUVBT29vZMnDiR4sWL8+mnnzJ+/HiuXbuGs7MzEydOpEyZMnTo0IE2bdrg4OCAl5cXV69eJTMzk379+vH222/j5ORE+fLl+eSTTyhfvjy//fYbHTt2xGAw8PLLL+c5EayIiNxfdqab+wHFqt08KjRphVU12nOo9IYxz/LeS6o94Ejyb17Xk3mW9+7d+wFHkj/z5s3Ls7xIfseKudDcHG9hXNr7RFbPd90vupwo8PkeJKtp+RWm4ODgXAsoAnTu3JkuXbpYICIREbEmD2XyW7hwoaVDEBERK2a9fWciIiL3iZKfiIjYHCU/ERGxOUp+IiJic5T8RETE5ij5iYiIzdFD7kWIlj4Skfyy5ofcY2NjmTt3LtnZ2XTv3p1u3brleP/QoUMMGzaMjIwMPDw8GD16NA4ODiQlJREeHs5ff/1FjRo1mDJlCo888ki+z3sztfxEROSBSU5OZvr06SxZsoSYmBiWLVvGH3/8kaNOeHg4ERERrFu3DpPJxPLlywEYPXo0Xbt2JSEhgeeee445c+bccxxKfiIiUmDp6ekkJibm+rl1tq1t27bh5eVFmTJlKFWqFC1atCAhIcH8/unTp7l69Sr169cHICgoiISEBLKysti1axctWrTIUX6vHsoZXkREpOBGjw3Nd90F5xcwa9asXOWhoaGEhYWZt1NSUnB1dTVvu7m5sX///tu+7+rqSnJyMhcuXMDZ2dm8HN6N8nul5CciIgXWvXv3PFepcXFxybFtNBpzjF8wmUw5tm/3/q31oGDjIJT8RESkwFxcXHIlury4u7ub10YFOHfuHG5ubjneP3funHn7/PnzuLm5Ua5cOS5evIjBYMDe3j7Xfv+Ukl8RZa1LqkDRWwYGil7MRW0JJtAyTA/C7eK1Ji+++CKfffYZqamplCxZkvXr1zN27Fjz+5UrV8bJyYk9e/bQqFEjVq9ejbe3N46Ojnh4eBAfH4+fnx8xMTF4e3vfcxwa8CIiIg9MhQoVGDBgACEhIbRr1462bdtSr149evXqxYEDBwCYMmUKEyZMoGXLlly+fJmQkBAARo4cyfLly2ndujW7d++mf//+9xyHWn4iIvJA+fn54efnl6Ns/vz55td16tRh5cqVufarXLlyoS1Zp5afiIjYHCU/ERGxOUp+IiJic5T8RETE5ij5iYiIzVHyExERm6PkJyIiNkfJT0REbI6Sn4iI2ByrTH47duwgODjY0mHkEhUVxeDBgwvteImJifj6+hba8UREJH+sMvmJiIjcT3ed2zM7O5tRo0Zx5MgRzp8/T+3atalSpQru7u68/fbbAISFheHv70/dunUZNGgQaWlp1KpVi127drF169bbHjsrK4uRI0eyZ88eKlSogJ2dHe+9916OOsHBwYSGhuLp6UliYiIhISFs2rSJ06dPM2TIEFJTUylRogTjxo2jTp06rFq1iq+//ho7OzueffZZRowYQfHixRk6dChHjhwBoGvXrnTs2JHz588TERHB2bNnsbOzY+DAgbz44ov5+uL279/PhAkTuHr1KmXLlmX06NFkZGQQHh5ObGwsAJs2bWLFihXMnTuXefPmsXbtWgwGA02bNiU8PDxf5xERkcJ315bf3r17cXR0ZNmyZXz//fdcvHgRd3d3vvvuOwAuXbrE3r17adasGePHj6dVq1bExsbSsmXLu66yu3TpUq5cuUJCQgITJkwwz+idH6NHj6ZFixZ89913hIWFMXfuXA4fPsznn3/OwoULiY2NpWTJksyaNYu9e/eSlpZGTEwMX3zxhXktqfHjx9O+fXuioqKYO3cuERERXLp06a7nzszMZPjw4UydOpXo6Gh69OjBiBEjqFOnDnZ2dvz+++8AxMXF4e/vz9atWzl48CArV64kJiaG5ORk1qxZk+/PKiIiheuuLb/GjRtTpkwZFi9ezNGjRzl+/Dhly5YlMzOTEydOsHfvXnx9fSlevDg//vgjEyZMAOC1116768KGP/74Ix07dsTOzo7KlSvTpEmTfAe+a9cupk2bBkCzZs1o1qwZixYt4pVXXqFs2bIAdOrUiSFDhtC7d2+OHTtGz5498fb25sMPPwRg27ZtHD16lJkzZwLXW7mnTp3i6aefvuO5jx8/zqlTp+jbt6+57EbS9Pf3Jy4ujmrVqrFr1y4+/vhjZsyYwf79+wkKCgLg6tWrVKpUiUaNGuX784qISOG5a/LbuHEjM2fOJCQkhKCgIC5cuIDJZMLf35/4+Hj27t1rXkDT3t4ek8mU75Pb29tjNBrvWu/GMbOzs/8/cAeHHO//+eefuY5lMpnIzs6mbNmyxMXF8eOPP7JlyxYCAwOJi4vDaDSyYMECypQpA0BKSgrly5e/azxGo5EqVaqwevVqAAwGA+fPnweuL9XRvXt36tSpQ9OmTXFycsJgMNC9e3d69OgBQHp6Ovb29ly4cOGu5xIRkcJ3127P7du306pVK9q3b4+Liws7duzAYDDg5+dHfHw8J06cMLdgmjRpYr7ftWXLFtLT0+947BdffJH4+HhMJhPJycns3LkTOzu7HHXKli3LH3/8AcCGDRvM5R4eHsTFxQHXW3AjRozghRdeYNOmTfz9998ALF++HE9PTzZu3Eh4eDg+Pj4MHz6cUqVKcebMGby8vFiyZAkAf/zxB35+fly5cuWuX9oTTzxBWlqauft01apVDBo0CLi+UGPFihWZN28e/v7+AHh5ebF69WoyMjLIzs7m/fffZ926dXc9j4iI3B93bfm98cYbDBo0iLi4OBwdHWnYsCGJiYlUrFiRsmXL0qBBA3PCGjZsGB999BHLly+nTp06d+327NixI7/99ht+fn64urpSqVIlSpQokSMBvfPOOwwePJhVq1bRvHlzc3lERATDhw9nyZIllCxZknHjxvHkk0/Sp08fgoODycrK4tlnn2X06NE4OTmxfv162rRpg5OTE/7+/tSuXZvhw4cTERFhXlRx0qRJODs73/VLK168OJ9++injx4/n2rVrODs7M3HiRPP7AQEBTJ8+nRdeeAEAX19ffvvtNzp27IjBYODll18mMDCQ06dP3/VcIiJS+OxM/6Sf8i6+/fZbXnzxRZ588kl++eUXRowYQVRU1G3r//DDD5hMJl555RUuXrxIu3btWLVqlbkbUnK6uVXce0k1C0ZyZ/O6nsyzXDEXntvG+3+3IKzRvHnz8iy31u8YivbvRWFc2s8+Mznfdd1/LVoj2O/a8vsnqlevzv/8z/9QrFgxnJycGDt2LPHx8XzxxRd51p81axYffvghM2bMAKBfv34WT3x3ivfGPT4RESlcSUlJhIeH89dff1GjRg2mTJnCI488kqNOSkoKQ4YM4fz58xQrVowPP/yQJk2akJWVhaenJ1WrVjXXjYqKwt7e/rbnK9Tkd2PU5c2effZZWrdufdt9IiMjCzOEAmvduvUd4xURkcI3evRounbtSps2bZg9ezZz5szJ9Tz0pEmT8PX1pVu3bhw9epTg4GC2bt3K4cOHadCgAV9++WW+z6cZXkREpMDS09NJTEzM9XO3gY9wfcKTXbt20aJFCwCCgoJISEjIVe+1116jbdu2wPWexmvXrnH58mUOHDhAamoqQUFBdOzYkZ07d971nIXa8hMREdu0YMECZs2alas8NDSUsLCwO+574cIFnJ2dzY+wubq65jlJyo3kCPDll1/y9NNP8+ijj2JnZ0fz5s3p06cPR44coVevXsTGxlKuXLnbnlPJT0RE8jStxZ0n/LjZ8O7eBAYG5iq/ddT/2rVrzZOh3FC9evVcj7ndun2zb775hmXLlrFo0SIAOnfubH7vmWeeoV69evz3v//l1Vdfve0xlPxERKTAXFxc7vp4G0CrVq1o1apVjrIbA1YMBgP29vacO3cONze3PPefNGkSW7ZsYfHixbi7uwMQExNDw4YNqVbt+ihck8mEo6PjHePQPT8REbEoR0dHPDw8iI+PB64nM29v71z1vvnmG3bs2EFkZKQ58QEcPnyYr776CoCjR49y6NChu04fqZafiIhY3MiRIxk8eDBz586lYsWK5rmbIyMjSUlJoV+/fsyePRtnZ+cc673OmzeP999/n6FDh9K2bVvs7OyYOHHiXScsUfITERGLq1y5MgsXLsxV3qVLF/PrXbt23Xb/GwsU5FehzvAi99edbgCLiNysMC7tHw74Lt91J01vW+DzPUi65yciIjZHyU9ERGyOkp+IiNgcJT8REbE5Sn4iImJz9KhDEZW0wnr/bqn0hjHPcmtdAw2K9rptN7PWeEFrED4It/uOJTfrvYKKiIjcJ0p+IiJic5T8RETE5ij5iYiIzVHyExERm6PkJyIiNkfJT0REbI6Sn4iI2BwlPxERsTlKfiIiYnOU/ERExOYo+RWCHTt2EBwcfE/7Dhs2jAMHDhRyRCIiRUtSUhLdunWjZcuW9O3bl4yMjFx1Tp8+TYMGDQgICCAgIICePXsC11etnzhxIi1btqR169bs2bPnrufTxNYWNn78eEuHICJicaNHj6Zr1660adOG2bNnM2fOHMLDw3PUOXjwIH5+fowZMyZH+bp16/jzzz+Jj4/nxIkT9OnTh/j4eBwcbp/i1PIrJBcuXKBnz574+fkxbNgwMjMzeemll4iIiKBdu3a88847rF27lq5du+Lr68vOnTsBCA4OZseOHRaOXkSkYNLT00lMTMz1k56eftd9s7Ky2LVrFy1atAAgKCiIhISEXPUOHDjA77//TkBAACEhIRw+fBiALVu20Lp1a4oVK0aNGjWoWLEie/fuveM5lfwKSWJiIiNGjGDNmjVkZGQQGRnJ+fPn8fb2JiYmhmvXrrFhwwaWLFlCWFgYCxYssHTIIiKFZsGCBTRv3jzXT36udRcuXMDZ2dncUnN1dSU5OTlXPScnJ/z9/YmOjqZnz568//77ZGZmkpKSgpubm7meq6srZ8+eveM51e1ZSDw8PHj88ccB8PPzIyoqCgBvb28AKleuTKNGjQCoVKlSvv4aEhGxpHcuBOS7rnv3CwQGBuYqd3FxybG9du1aJkyYkKOsevXq2NnZ5Si7dRsgLCzM/LpZs2ZMnTqVo0ePYjQac9Q3mUwUK3bntp2SXyG5uW/ZZDKZt4sXL24ut7e3f+BxiYg8CC4uLrkSXV5atWpFq1atcpRlZWXh6emJwWDA3t6ec+fO5WjJ3bBw4ULatm1L2bJlgf+/1rq7u5OSkmKud/78+Tz3v5m6PQvJnj17SEpKwmg0EhMTw4svvmjpkEREigRHR0c8PDyIj48HICYmxtxrdrNdu3axcuVKAHbu3InRaOSJJ57A29ub2NhYDAYDJ06c4Pjx49StW/eO51TyKyRPPvkkQ4cOxc/PjwoVKtChQwdLhyQiUmSMHDmS5cuX07p1a3bv3k3//v0BiIyM5NNPPwWuPxq2bds22rZty8SJE5k6dSrFihWjZcuWPPXUU/j7+/Pee+8xfvx4SpQoccfz2ZlMJtP9/lBSOG7u005aYb1/t1R6w5hnee8l1R5wJPk3r+vJPMutNeaiFi/cIebevR9wJPk3b968PMut9Xu++TsujEv772/l/1ZNrW8MBT7fg2S9V1AREZH7RMlPRERsjpKfiIjYHCU/ERGxOUp+IiJic5T8RETE5ij5iYiIzVHyExERm6PkJyIiNkczvBQhec1yLiKSF83wcmdq+YmIiM1R8hMREZuj5CciIjZHyU9ERGyOkp+IiNgcB0sHIPfGWtcTg4dsrTkrjbmoxQsPWcxWugbh7dYflNzU8hMREZuj5CciIjZH3Z4iImJxSUlJhIeH89dff1GjRg2mTJnCI488kqPOu+++y5kzZwAwGo38/vvvrFy5kjp16uDp6UnVqlXNdaOiorC3v/1D+kp+IiJicaNHj6Zr1660adOG2bNnM2fOHMLDw3PU+fzzz82vP/30U+rXr0/dunU5ePAgDRo04Msvv8z3+dTtKSIiBZaenk5iYmKun/T09Lvum5WVxa5du2jRogUAQUFBJCQk3Lb+0aNHiYmJ4aOPPgLgwIEDpKamEhQURMeOHdm5c+ddz6mWn4iIFNiCBQuYNWtWrvLQ0FDCwsLuuO+FCxdwdnbGweF6SnJ1dSU5Ofm29efMmUPPnj1xdnYGrs973Lx5c/r06cORI0fo1asXsbGxlCtX7rbHUPITEZE8+TYLv3ul//Nr++4EBgbmKndxccmxvXbtWiZMmJCjrHr16rkm7r/dRP5paWn8+OOPjB8/3lzWuXNn8+tnnnmGevXq8d///pdXX331tvEq+YmISIG5uLjkSnR5adWqFa1atcpRlpWVhaenJwaDAXt7e86dO4ebm1ue+2/ZsgVvb2+cnJzMZTExMTRs2JBq1a4/M2oymXB0dLxjHLrnJyIiFuXo6IiHhwfx8fHA9WTm7e2dZ92ff/4ZDw+PHGWHDx/mq6++Aq7fDzx06BCNGjW64zmV/ERExOJGjhzJ8uXLad26Nbt376Z///4AREZG8umnn5rrnTp1igoVKuTY9/333yc1NZW2bdvywQcfMHHiRPP9wNtRt6eIiFhc5cqVWbhwYa7yLl265NieP39+rjrOzs7MnDnzH51PLT8REbE5Sn75MHPmTHbv3v2P9vH19SUxMfE+RSQiIgWh5JcPu3btwmAwWDoMEREpJLrnd4uzZ88yaNAgLl++TLFixfDx8eHgwYMMHz6cWbNmMW7cOEqXLs2RI0eYMWMGZ8+eZcaMGRiNRqpWrcqYMWN47LHHzMc7duwYffr0YdKkSdStW5dJkyaxc+dODAYDQUFBvPXWW5b7sCIiNkotv1usXLkSHx8foqKi6NevHyVLluS5555j3Lhx1K5dG4DatWuzbt063NzciIiIYPbs2cTGxtKwYUPGjBljPtbZs2cJDQ3l448/pn79+ixfvhyA6OhoVq5cycaNG/9xd6qIiBSckt8tmjRpwldffcXAgQP5+++/efPNN3PVqVevHgD79++nXr16VKlSBYBOnTrx008/met98MEHVK1a1fxMyvbt29m0aRMBAQG88cYbnD17lsOHDz+ATyUiIjdTt+ctGjVqRFxcHD/88APx8fFER0fnqlOiRAng+pIaNzOZTGRnZ5u3hw0bxuzZs/nhhx/w8fHBYDAQHh7O66+/DkBqamquJTtEROT+U8vvFpMmTWLNmjUEBgYSERHBr7/+ir29fZ4DXp5//nn27dtnHtW5bNkyPD09ze/Xq1ePUaNGMWbMGC5fvoyXlxfLly8nKyuLjIwMunbtys8///ygPpqIiPwftfxuERwczMCBA80LIU6cOJE///yTkSNHMnHixBx1H3vsMcaMGUNoaChZWVlUqlQpx2SrAI0bN8bT05MZM2YQHh7OiRMnCAwMJDs7m6CgoBzJUkREHgwlv1tUrFiRJUuW5Cjz8fGhZ8+eALlmIPD19cXX1zfXcTZt2mR+ffMM5sOHDy/McEVE5B6o21NERGyOkp+IiNgcJT8REbE5Sn4iImJzlPxERMTmKPmJiIjNUfITERGbo+QnIiI2R8lPRERsjp3JZDJZOgjJHzs7O0uHICJFRGFc2qt8PTjfdRN7fFLg8wHMmDEDe3t7wsLCcr2XmZnJsGHDOHjwICVKlGDKlCnUrFkTk8nEpEmT2Lx5M8WKFWPs2LE0atTojudRy09ERCzu4sWLDB06lK+//vq2dRYuXEjJkiVZu3YtQ4cOZciQIQCsW7eOP//8k/j4eGbPns2QIUNyrLCTF83tKSIiBZaenk56enquchcXF1xcXO66/8aNG3n88cfp0aPHbev88MMPfPDBB8D1RQNSU1NJSkpiy5YttG7dmmLFilGjRg0qVqzI3r17ady48W2PpeRXhKiHWkQepH/SlfnZZ58xa9asXOWhoaF5dmHeql27dubj3E5KSgqurq7mbVdXV86ePUtKSgpubm65yu9EyU9ERAqse/fuBAYG5iq/tdW3du3aHCvdADzxxBN88803dz2HyWTKMfbBZDJRrFgxjEZjnuV3ouQnIiIFlt/uzVatWtGqVat7OkeFChVISUmhWrVqAJw/fx43Nzfc3d1JSUkx17tRfica8CIiIkVCs2bNWL16NQC7d+/GycmJSpUq4e3tTWxsLAaDgRMnTnD8+HHq1q17x2Op5SciIlYrMjKSlJQUPvjgA4KDg4mIiKBNmzYUL16cSZMmAdCyZUv279+Pv78/AOPHj6dEiRJ3PK6e8xMREZujbk8REbE5Sn4iImJzlPxERMTmKPmJiIjNUfITERGbo+QnIiI2R8/5SZGRnZ3Nf/7zH/7+++8c5TfmBLRmsbGx/PHHH7z77rusW7euSMRs7X755ReeffZZdu3alef7d5rU2NL27NnD77//Tvv27dm3b59Vx/qwUvKzUWlpaUyePJmTJ08yc+ZMJk6cyODBgyldurSlQ7utgQMHkpSURM2aNXPM42ftiWTKlCmcPXuWX375hV69erFq1Sp+++03Bg/O/1pp95uvr2+e60XemEtx48aNFojqzpYuXcrYsWOZOXNmrvfs7Oz49ttvLRDV3S1YsIANGzaQkpJCy5YtiYiIoEOHDvTs2dPSodkUPeRuo/r168dLL73E4sWLWblyJbNnz+bQoUPMmzfP0qHdVsuWLUlISLB0GP9Yu3btiI6OJjAwkJiYGLKzs/H39yc+Pt7SoZmdPn36ju9Xrlz5AUXy8GvXrh3Lly+nY8eOxMTEkJGRwRtvvGFVvw+2QC0/G5WYmEinTp2IjIykePHiDBgwwDw1kLWqWbNmrqVLioIbs8vfaFllZmbedcb5B+3m5FbUumh3797NggULSEtLy1FurS2/YsWKUbx4cfO2k5MT9vb2FozINin52Sh7e3suXrxoviAfP37c6i7It7p69SotW7akVq1aOS4e1nqRu6Fly5b079+ftLQ0vvnmG1avXk3btm0tHVaeikIX7a0GDx5MaGgolSpVsnQo+fLCCy8wceJErly5woYNG1i2bBmenp6WDsvmqNvTRm3dupVp06Zx5swZGjVqxM8//8zHH3+Mj4+PpUO7rZ07d+ZZ/sILLzzgSP65f//732zbtg2j0UiTJk2s9nsuCl20t+rWrRuLFy+2dBj5ZjQaWb58ufn3wcvLiy5duqj194Cp5WejvL29ee6559i/fz8Gg4ExY8bw2GOPWTqsO3rhhRfYsmULP/30E9nZ2Xh6evLqq69aOqy7yszMxNXVlY8++og1a9awY8cO6tWrR7ly5SwdWi5FoYv2VsHBwQwaNAgvLy8cHP7/kmat3bUHDx6kc+fOdO7cGYArV64wefJkq25dP4yU/GzUrFmzcmz/9ttvlChRgpo1a1ptq2T+/PmsX78ePz8/TCYTn3/+OUeOHKFv376WDu2OwsPDqVKlCpmZmcyePRt/f3+GDBnCF198YenQcrm1i3bNmjVW20V7w6pVq7h27Rp79uzJUW6tyS88PJxPPvmEBg0asGXLFkaPHo2Xl5elw7I56va0UR9++CEnTpygTZs2AKxfvx5nZ2eKFSvG448/zocffmjhCHPz8/NjxYoV5nW6rly5QlBQEGvXrrVwZHfWvn17Vq1axeTJkyldujS9e/c2l1mjm7tovby8eOWVVywd0h0FBgYSHR1t6TDy7dixY4SFhVG1alUSExMZOXIkHh4elg7L5lh3f4bcN8eOHWPhwoWEhIQQEhLCV199xYULF5gzZw7/+c9/LB1enkwmU44FKp2cnHJ0c1krg8FAamoqGzZswMfHh3PnznHt2jVLh5Wn999/n8uXLzNgwACGDBli9YkPoF69emzevJns7GxLh3JHSUlJJCUl4eTkxKhRozhw4ADvv/8+lSpVIikpydLh2Rzrv3LIfZGenk52drZ51GRmZiYZGRnA9SRjjby8vAgLCyMwMBCAmJiYIjFKrmfPnnTs2BFfX19q1apFixYt+OCDDywdVp46dOhAXFwcEyZMoGnTpvj7+1v9gKKNGzeyfPnyXOWHDh2yQDS39+abb2JnZ2f+/3XzSuTWOpHAw0zdnjbq22+/JTIyEh8fH4xGI1u3biU4OJjMzEwOHDjA1KlTLR1iLiaTicjISH766SdMJhNeXl506tSpSLT+bmYwGMjKysrRirU2165dY/PmzcybN48LFy6wefNmS4d0W5mZmSxdupSdO3fi4ODASy+9RPv27a1+oI5YlpKfjbp27Rrz58/Hzs4OFxcXTCYTFy5cICAggEqVKuV4js7Szp07h6ur6227hqz9+a5NmzYxY8YMLl++jMlkwmg0cuXKFX766SdLh5anP/74g7i4OBISEqhYsSL+/v5WO3gEYMSIEWRkZNC2bVuMRiOrV6/G3d2dYcOGWTq0PKWmpjJmzBi2b9+OwWDAy8uLUaNGWf1o64eNkp+NCg0NJS0tjZMnT+Lh4cGOHTto2LBhnvMkWlqfPn344osvcsw/eePXtih0F7322muMHTuWr7/+mnfffZcNGzZw5coVIiIiLB1aLn5+ftjb2+Pn54efn1+RmE3Hz8+P2NhY87bRaCQgICBHmTUJDQ2lQYMGdOrUCaPRyLJly9i9e7dVjv59mBWt/iIpNIcPH2b9+vWMHz+e9u3b079/f/r372/psPJ046KwadMmC0dybx599FG8vLz473//y8WLFwkPD6d169aWDitPU6ZMoXbt2pYO4x+pUKECp06domrVqgCkpKTg6upq4ahu79SpUzkeNerVqxdr1qyxYES2SZ3iNqp8+fLY2dlRo0YNDh8+TNWqVcnKyrJ0WHe0f/9+vv76azIzM3n77bfx8vJi69atlg7rrkqUKMGxY8eoWbMmO3fuJDMz02q/a2dnZ3r06MHrr79OSkoKISEhnDp1ytJh5Sk4OJiQkBCSk5Px9/end+/e9O3bF39/f6sdTQvXeyvOnDlj3k5KSipy960fBvrGbdRTTz3F2LFj6dKlC4MGDSIlJcVqR3neMG7cOMLCwli3bh1OTk5ERUURFhaGt7e3pUO7o/79+zNjxgwmT57MvHnzWLZsGR06dLB0WHmKiIigZ8+eTJkyBVdXV9q2bcvgwYOtcvqwsLCwPMt79OjxgCP5Zz744AM6derE888/j8lkYt++fYwdO9bSYdkc3fOzUQaDgb179+Lh4cHGjRvZvn07HTt2pFatWpYO7bY6dOjAypUrGThwIC+//DLt2rWjXbt2xMTEWDq0fyQtLc1q100MCgoiKioqx/caEBDA6tWrLRvYQ+S3337Dzc2N/fv3YzQaef755ylfvrylw7I56va0Ufb29uZZJZo3b87w4cOtOvEBlCxZkq+++oqffvqJV155hW+//ZZHHnnE0mHd1enTp81diefOnSMsLIzExERLh5WnEiVKcPbsWfPAot27d1vVyN+HwYABAyhXrhw+Pj74+voq8VmIWn5SZCQnJ7NixQpefPFFGjZsyOTJkwkJCaFChQqWDu2OevbsSY8ePZgyZQrR0dGsWLGC1atXW2VX4v79+xkxYgQnT56kWrVqpKWlMWPGDOrXr2/p0B4aYWFh1K5dm+effz7Hs56NGze2YFS2R8lPipQjR46QlpaW4/6ktV80ilpXYlZWFsePH8dgMPDEE0+o5VfIgoODc5XZ2dlZ/bqUDxsNeJEiY/To0WzevNk8pB2KxkWjKHQlDhky5I7vT5gw4QFF8vCLiIjgqaeeylH2888/WyYYG6bkJ0XGjz/+SEJCglVPC5aXIUOG0KdPH06ePElAQABpaWl8+umnlg4rB2ufv/NhsGfPHoxGI8OHD2f8+PHm3ovs7GxGjRrFunXrLByhbVHykyKjatWqVv84Rl7q1q3LypUrzV2JNWvWxNHR0dJh5XBjsvC71SlKSwdZm23btrFz505SUlKYOXMmJpMJOzs7HBwc6NSpk6XDszlKflJklC5dmjZt2tCgQYMc3YbW3iW3f/9+9uzZQ7du3Xj33Xf59ddfmTRpktU/n3iroviHhzW58Vzi7NmzKVWqlPn34ZdffqF79+4Wjs72KPlJkfHyyy/z8ssvWzqMf+zmh/NLlChRZB7Ov9WNe5ZSMFu2bKFfv36sX7+eEiVKEBMTQ2hoKM2aNbN0aDZFyU+KjMDAQBITE/njjz9o2rQpZ86cyTH4xVoZjUZefvllBg4cyOuvv06lSpUwGAyWDkssxGg00rRpU/PvQ8WKFfX7YAF6yF2KjPj4ePr27cv48eNJS0ujc+fOVvu4wM2K6sP5cn/c+H3YsWOHfh8sSMlPioz58+cTGRnJI488Qvny5YmOjmbevHmWDuuupkyZwuXLl/nss88oXbo0ycnJTJs2zdJh/WO651c4bvw+zJw50/z7YI2LRz/slPykyChWrBjOzs7mbTc3N6terfuXX34B4OTJk3h6emIwGNi1axc+Pj6cPHnSwtHd3uXLl/ntt98wmUxcvnzZXN67d28LRvXwqFChAqGhoTRs2BCA8PBw3N3dLRyV7dE9PykynnrqKRYtWkR2djaHDh1iyZIl1KlTx9Jh3VZkZCTjxo3Lc4Fga304f/v27URERGAwGFi2bBlt27Zl6tSpNG3a1GrXIBS5F5reTIqMy5cvM3fuXLZt24bRaMTLy4vQ0FDdLylEb7zxBnPmzKFXr17ExMTwxx9/8D//8z9abFUeOmr5SZGxbt06Bg4cyMCBA81lixcvplu3bhaM6vaCg4Pv+HiANbb8jEZjjlXQn3zySQtGI3L/KPmJ1fvmm2+4dOkSS5cu5fTp0+Zyg8FAbGys1Sa/Gw81L1++nBIlStCuXTscHBz47rvvrHalcXd3dzZv3oydnR3p6eksXryYSpUqWToskUKn5CdW7/HHH+fgwYO5yosXL84nn3xigYjy58Z8mRMnTmTVqlXm8vr16xMUFGSpsO5ozJgxjB8/njNnzvDaa6/h6enJmDFjLB2WSKFT8hOr5+Pjg4+PD4cPHyY0NNTS4fxj165d49ixY9SoUQOAw4cPk52dbeGo8la+fHnzYxgXL17k7NmzuLm5WTgqkcKn5CdFxokTJ8yTARclgwcPJjg4mAoVKmAymfjrr7+s9rmuFStWsGfPHj788EPatWvHI488QkBAAO+++66lQxMpVBrtKUVGSEgIycnJPPvsszg5OZnLrX1ia4DMzEx+//137OzsqF27Ng4O1//uXLZsmVXN6B8UFMTnn39OQkICx44dY9iwYXTs2JGoqChLhyZSqNTykyIjP8vuWKvixYvz3HPP5SpfunSpVSU/uD55wJYtWwgJCcHBwcFqB+eIFISSnxQZRXVi6zuxto6XJ598kj59+pCYmEiTJk3o378/9erVs3RYIoVOyU+KjPj4eObOncvVq1dZunQpnTt35sMPPyQgIMDSod0za7t/+fHHH7N3715q1apF8eLF8ff3L3JLL4nkh/VOjChyi6I6sXVRkpWVxebNm+nRowcBAQH89NNPZGZmWjoskUKn5CdFRlGb2LooGjNmDFevXuXjjz9m4sSJZGdnM3LkSEuHJVLo1O0pRUZRm9j6TjIzMylevDiPPvqopUPJ4Zdffskxj2dERIQmtJaHkv5sliIjIiKC5ORknJycGDZsGM7OzkWiVXLraE6j0Uj79u0B65vf02QykZ6ebt5OT0/H3t7eghGJ3B9q+UmRUapUKd566y2ee+45HBwc8PDwyNENam1CQkLYuXMnAE8//bS53N7eHl9fX0uFdUdvvfUWHTp0MMe3adMmreMnDyU95C5FxurVq5k0aRKNGjXCYDCwf/9+xo0bR7NmzSwd2h2NHj26SLRQb/j999/ZtWsXRqMRT09PatWqZemQRAqdWn5SZMydO5eoqCgqVKgAwOnTp3n33XetPvn99NNPlg4h3w4fPsznn3/O9OnT+fPPP4mIiGDs2LE88cQTlg5NpFDpnp8UGY888kiOteYqV66Mo6OjBSPKnzp16hATE8PRo0dJSkoy/1ijESNGmGfSqVmzJu+99x7Dhg2zcFQihU8tPyky6tatS69evWjfvj329vasXbsWNzc3YmJiAGjXrp1F47udffv2sW/fvhxldnZ2bNy40UIR3d6VK1dyPNT+0ksvMXnyZAtGJHJ/KPlJkXHt2jXc3Nz497//DUDJkiUpWbIkO3bsAKw3+W3atMnSIeRbuXLliIyMxN/fH7g+q0758uUtHJVI4dOAFyky1q5dS/PmzSlevLilQ/lHjh8/zqJFi7h8+TImkwmj0UhiYiKLFy+2dGi5JCUlMXr0aHbu3ImjoyONGzdmxIgRuLu7Wzo0kUKl5CdFxpAhQ9ixYwfNmjUjMDCwyEy4HBQUhI+PD5s3byYwMJDvv/+emjVrMmrUKEuHJmKz1O0pRcaECRO4cuUK69ev57PPPuOvv/6iTZs2tGvXzqq75rKysujXrx/Z2dk888wzdOzY0fyQu7Xx9fXNc7Jta7w/KVIQSn5SpJQsWZLKlStTsWJFTpw4weHDh3nrrbfo1KkTb775pqXDy1PJkiXJzMzk8ccf55dffsHDw8PSId3WwoULza+zs7P5/vvvNbG1PJTU7SlFxvTp04mLi6Ny5cq0b9+eFi1a4OTkxKVLl2jevLl54Iu1WbRoEZs2bWLKlCl06tSJ6tWrYzQa+eqrrywdWr4EBQVpJXd56Cj5SZExbdo03N3dKVWqVI7ydu3asX//fqu+B3jp0iWcnZ05e/YsBw4c4KWXXsr1OazBrl27zK9NJhNHjhxhyZIlxMXFWTAqkcKnbk8pMo4cOcL27dupWbNmjvtS7dq1s+rEl5mZyaJFizh69CgREREcPnzYamelmTlzpvm1nZ0dZcuW5ZNPPrFgRCL3h5KfFBnHjh0jISHB0mH8Y2PGjKFcuXL8+uuv2Nvbc/LkSYYOHcqUKVMsHVouN9/zE3mYKflJkVGtWjWSkpKoVKmSpUP5R3755Reio6PZunUrJUuWZOLEifj5+Vk6rByCg4PzHOV5g7UtvSRSUEp+YvVuXJhTU1Px8/OjTp06OdaYs/YLs52dHZmZmebkcuHChTsmGksICwuzdAgiD5QGvIjVu7Em3u288MILDyiSexMTE8OKFSs4ceIErVq1YsOGDbz//vt06NDB0qHlcvOAF7ieuJ2cnKhevTouLi4Wikqk8Cn5idxnmZmZrFixggsXLlC6dGlMJhMuLi5WORfpW2+9xcGDB2nSpAkmk4mdO3dSuXJlLl26xAcffEDbtm0tHaJIoVC3p8h91r9/f86dO0fNmjU5ffq0udwak5/JZGLNmjXm+6rJyckMHTqUhQsXEhwcrOQnDw0lP5H77OjRo0VmlGpKSkqOAUUVKlQgJSUFZ2dn1EkkDxMlP5H7rCiNUm3YsCEDBw7Ez88Po9FIXFwcDRo04IcffrDKh/JF7pXu+YncJzePUj1z5kyRGKWanZ3N0qVL+fHHH7G3t6dJkyZ06tSJH3/8kSeffJLKlStbOkSRQqHkJ3KfFPVRqrcKDAwkOjra0mGIFAp1e4rcJ0Utud2N/k6Wh0kxSwcgIkWDtT2YL1IQSn4iImJzlPxERMTmKPmJSL7onp88TJT8RCRfevfubekQRAqNRnuKiFmzZs1ISUnBxcUFk8nExYsXcXFxoUqVKowbN87S4YkUGiU/ETFr3LgxLVu25NVXXwVgy5YtJCQkEBwczOjRo1m6dKmFIxQpHOr2FBGzI0eOmBMfXG8JHj58mGeeeYZr165ZMDKRwqXkJyJmLi4uLF26lMuXL3Pp0iUiIyMpXbo0f/75J0aj0dLhiRQaTW8mImbJycmMHz+eH3/8EQcHB5o0acLQoUNZt24d1atXx9vb29IhihQKJT8RMduwYQM+Pj44OGg4gDzc1O0pImZr1qzB19eXkSNHsmfPHkuHI3LfqOUnIjlcunSJDRs2sHbtWk6ePEnLli354IMPLB2WSKFS34aI5ODs7EyjRo04e/YsZ86cYe/evZYOSaTQqeUnImZff/01cXFxXLt2DX9/f/z8/HB3d7d0WCKFTslPRMwmTJhAxYoVKVOmDAAGg4HExER1e8pDR92eImKWmJjIr7/+ysmTJ/Hw8GDHjh00bNjQ0mGJFDqN9hQRs99//51vv/2W1157jXfeeYfIyEhOnz5t6bBECp2Sn4iYlS9fHjs7O2rUqMHhw4epWrUqWVlZlg5LpNCp21NEzJ566inGjh1Lly5dGDRoECkpKVrHTx5KGvAiImYGg4G9e/fi4eHBxo0b2b59Ox07dqRWrVqWDk2kUCn5iYiIzdE9PxERsTlKfiIiYnOU/ERExOYo+YmIiM35X/CO+DtlYgvYAAAAAElFTkSuQmCC\n",
      "text/plain": [
       "<Figure size 432x288 with 2 Axes>"
      ]
     },
     "metadata": {},
     "output_type": "display_data"
    }
   ],
   "source": [
    "#heatmap\n",
    "sns.heatmap(df.corr(),annot = False,vmin=-1, vmax=1, center= 0,cmap= 'Dark2',linewidths=5, linecolor='black')"
   ]
  },
  {
   "cell_type": "code",
   "execution_count": 18,
   "id": "4301917b",
   "metadata": {},
   "outputs": [
    {
     "data": {
      "text/plain": [
       "<seaborn.axisgrid.FacetGrid at 0x2480253eb50>"
      ]
     },
     "execution_count": 18,
     "metadata": {},
     "output_type": "execute_result"
    },
    {
     "data": {
      "image/png": "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\n",
      "text/plain": [
       "<Figure size 405.725x360 with 1 Axes>"
      ]
     },
     "metadata": {},
     "output_type": "display_data"
    }
   ],
   "source": [
    "#ns.relplot(x = 'age', y = 'avg_glucose_level',hue = 'stroke', data = df)\n",
    "sns.relplot(x = 'age', y = 'bmi',hue = 'stroke', data = df)"
   ]
  },
  {
   "cell_type": "code",
   "execution_count": 19,
   "id": "77253025",
   "metadata": {},
   "outputs": [
    {
     "name": "stderr",
     "output_type": "stream",
     "text": [
      "C:\\ProgramData\\Anaconda3\\lib\\site-packages\\seaborn\\distributions.py:2557: FutureWarning: `distplot` is a deprecated function and will be removed in a future version. Please adapt your code to use either `displot` (a figure-level function with similar flexibility) or `histplot` (an axes-level function for histograms).\n",
      "  warnings.warn(msg, FutureWarning)\n"
     ]
    },
    {
     "data": {
      "text/plain": [
       "<AxesSubplot:xlabel='avg_glucose_level', ylabel='Density'>"
      ]
     },
     "execution_count": 19,
     "metadata": {},
     "output_type": "execute_result"
    },
    {
     "data": {
      "image/png": "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\n",
      "text/plain": [
       "<Figure size 432x288 with 1 Axes>"
      ]
     },
     "metadata": {},
     "output_type": "display_data"
    }
   ],
   "source": [
    "#sns.distplot(df['age'],bins = 10)\n",
    "#sns.distplot(df['bmi'])\n",
    "sns.distplot(df['avg_glucose_level'],bins = 8)"
   ]
  },
  {
   "cell_type": "code",
   "execution_count": 20,
   "id": "dc446e62",
   "metadata": {},
   "outputs": [
    {
     "data": {
      "text/plain": [
       "Text(0.5, 1.0, 'Age vs Gender')"
      ]
     },
     "execution_count": 20,
     "metadata": {},
     "output_type": "execute_result"
    },
    {
     "data": {
      "image/png": "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\n",
      "text/plain": [
       "<Figure size 432x288 with 1 Axes>"
      ]
     },
     "metadata": {},
     "output_type": "display_data"
    }
   ],
   "source": [
    "# BarPlot [Age vs Gender with Stroke ]\n",
    "\n",
    "\n",
    "sns.barplot(x=\"stroke\", y=\"age\", hue=\"gender\", data=df)\n",
    "plt.title('Age vs Gender',fontsize=20)"
   ]
  },
  {
   "cell_type": "markdown",
   "id": "4cd49eac",
   "metadata": {},
   "source": [
    "From the barplot we can conclude that, \n",
    "    1. most of the patient (male and female) suffers from Stroke in the age of 70s\n",
    "    2. Male patient are suffered most rather than female patient.\n",
    "    3. Patient who are not attacked by Stroke are the age of 40s."
   ]
  },
  {
   "cell_type": "code",
   "execution_count": 21,
   "id": "177b1037",
   "metadata": {},
   "outputs": [
    {
     "data": {
      "text/plain": [
       "Text(0.5, 1.0, 'bmi vs smoking status')"
      ]
     },
     "execution_count": 21,
     "metadata": {},
     "output_type": "execute_result"
    },
    {
     "data": {
      "image/png": "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\n",
      "text/plain": [
       "<Figure size 432x288 with 1 Axes>"
      ]
     },
     "metadata": {},
     "output_type": "display_data"
    }
   ],
   "source": [
    "sns.barplot(x=\"smoking_status\", y=\"bmi\",hue ='stroke',data=df)\n",
    "plt.title('bmi vs smoking status',fontsize=20)"
   ]
  },
  {
   "cell_type": "code",
   "execution_count": 22,
   "id": "10f10194",
   "metadata": {},
   "outputs": [
    {
     "data": {
      "text/plain": [
       "never smoked       1892\n",
       "Unknown            1544\n",
       "formerly smoked     885\n",
       "smokes              789\n",
       "Name: smoking_status, dtype: int64"
      ]
     },
     "execution_count": 22,
     "metadata": {},
     "output_type": "execute_result"
    }
   ],
   "source": [
    "df.smoking_status.value_counts()"
   ]
  },
  {
   "cell_type": "code",
   "execution_count": 23,
   "id": "1d90db65",
   "metadata": {},
   "outputs": [
    {
     "data": {
      "text/plain": [
       "Female    2995\n",
       "Male      2115\n",
       "Name: gender, dtype: int64"
      ]
     },
     "execution_count": 23,
     "metadata": {},
     "output_type": "execute_result"
    }
   ],
   "source": [
    "df.gender.value_counts()"
   ]
  },
  {
   "cell_type": "markdown",
   "id": "b574d9ae",
   "metadata": {},
   "source": [
    "# chi2-test "
   ]
  },
  {
   "cell_type": "code",
   "execution_count": 24,
   "id": "00050bc1",
   "metadata": {},
   "outputs": [
    {
     "data": {
      "text/html": [
       "<div>\n",
       "<style scoped>\n",
       "    .dataframe tbody tr th:only-of-type {\n",
       "        vertical-align: middle;\n",
       "    }\n",
       "\n",
       "    .dataframe tbody tr th {\n",
       "        vertical-align: top;\n",
       "    }\n",
       "\n",
       "    .dataframe thead th {\n",
       "        text-align: right;\n",
       "    }\n",
       "</style>\n",
       "<table border=\"1\" class=\"dataframe\">\n",
       "  <thead>\n",
       "    <tr style=\"text-align: right;\">\n",
       "      <th>smoking_status</th>\n",
       "      <th>Unknown</th>\n",
       "      <th>formerly smoked</th>\n",
       "      <th>never smoked</th>\n",
       "      <th>smokes</th>\n",
       "    </tr>\n",
       "    <tr>\n",
       "      <th>gender</th>\n",
       "      <th></th>\n",
       "      <th></th>\n",
       "      <th></th>\n",
       "      <th></th>\n",
       "    </tr>\n",
       "  </thead>\n",
       "  <tbody>\n",
       "    <tr>\n",
       "      <th>Female</th>\n",
       "      <td>836</td>\n",
       "      <td>478</td>\n",
       "      <td>1229</td>\n",
       "      <td>452</td>\n",
       "    </tr>\n",
       "    <tr>\n",
       "      <th>Male</th>\n",
       "      <td>708</td>\n",
       "      <td>407</td>\n",
       "      <td>663</td>\n",
       "      <td>337</td>\n",
       "    </tr>\n",
       "  </tbody>\n",
       "</table>\n",
       "</div>"
      ],
      "text/plain": [
       "smoking_status  Unknown  formerly smoked  never smoked  smokes\n",
       "gender                                                        \n",
       "Female              836              478          1229     452\n",
       "Male                708              407           663     337"
      ]
     },
     "execution_count": 24,
     "metadata": {},
     "output_type": "execute_result"
    }
   ],
   "source": [
    "# chi2-test: Gender vs Smoking Status \n",
    "\n",
    "contigency_table = pd.crosstab(df.gender,df.smoking_status)\n",
    "contigency_table"
   ]
  },
  {
   "cell_type": "code",
   "execution_count": 25,
   "id": "f97e1012",
   "metadata": {},
   "outputs": [
    {
     "data": {
      "text/plain": [
       "52.4"
      ]
     },
     "execution_count": 25,
     "metadata": {},
     "output_type": "execute_result"
    }
   ],
   "source": [
    "from scipy.stats.contingency import chi2_contingency\n",
    "chi_2, p_val, dof, exp_val = chi2_contingency(contigency_table)\n",
    "\n",
    "chi_2.round(2)"
   ]
  },
  {
   "cell_type": "code",
   "execution_count": 26,
   "id": "89852bf1",
   "metadata": {},
   "outputs": [
    {
     "data": {
      "text/plain": [
       "2.4630457413264754e-11"
      ]
     },
     "execution_count": 26,
     "metadata": {},
     "output_type": "execute_result"
    }
   ],
   "source": [
    "p_val"
   ]
  },
  {
   "cell_type": "code",
   "execution_count": 27,
   "id": "2ab0db95",
   "metadata": {},
   "outputs": [
    {
     "data": {
      "text/plain": [
       "3"
      ]
     },
     "execution_count": 27,
     "metadata": {},
     "output_type": "execute_result"
    }
   ],
   "source": [
    "dof"
   ]
  },
  {
   "cell_type": "code",
   "execution_count": 28,
   "id": "671b94b5",
   "metadata": {},
   "outputs": [
    {
     "data": {
      "text/plain": [
       "array([[ 904.95,  518.7 , 1108.91,  462.44],\n",
       "       [ 639.05,  366.3 ,  783.09,  326.56]])"
      ]
     },
     "execution_count": 28,
     "metadata": {},
     "output_type": "execute_result"
    }
   ],
   "source": [
    "exp_val.round(2) "
   ]
  },
  {
   "cell_type": "code",
   "execution_count": 29,
   "id": "9574439a",
   "metadata": {},
   "outputs": [
    {
     "name": "stdout",
     "output_type": "stream",
     "text": [
      "There is a correlation between the two variables at significance level 0.05  or 95% Confidence Interval\n"
     ]
    }
   ],
   "source": [
    "sig_lev = 0.05\n",
    "if p_val < sig_lev:\n",
    "    print(\"There is a correlation between the two variables at significance level {}\".format(sig_lev),' or 95% Confidence Interval')\n",
    "else:\n",
    "    print(\"There is no correlation between the two variables\")"
   ]
  },
  {
   "cell_type": "code",
   "execution_count": 30,
   "id": "d060e45a",
   "metadata": {},
   "outputs": [
    {
     "data": {
      "text/html": [
       "<div>\n",
       "<style scoped>\n",
       "    .dataframe tbody tr th:only-of-type {\n",
       "        vertical-align: middle;\n",
       "    }\n",
       "\n",
       "    .dataframe tbody tr th {\n",
       "        vertical-align: top;\n",
       "    }\n",
       "\n",
       "    .dataframe thead th {\n",
       "        text-align: right;\n",
       "    }\n",
       "</style>\n",
       "<table border=\"1\" class=\"dataframe\">\n",
       "  <thead>\n",
       "    <tr style=\"text-align: right;\">\n",
       "      <th>stroke</th>\n",
       "      <th>0</th>\n",
       "      <th>1</th>\n",
       "    </tr>\n",
       "    <tr>\n",
       "      <th>heart_disease</th>\n",
       "      <th></th>\n",
       "      <th></th>\n",
       "    </tr>\n",
       "  </thead>\n",
       "  <tbody>\n",
       "    <tr>\n",
       "      <th>0</th>\n",
       "      <td>4632</td>\n",
       "      <td>202</td>\n",
       "    </tr>\n",
       "    <tr>\n",
       "      <th>1</th>\n",
       "      <td>229</td>\n",
       "      <td>47</td>\n",
       "    </tr>\n",
       "  </tbody>\n",
       "</table>\n",
       "</div>"
      ],
      "text/plain": [
       "stroke            0    1\n",
       "heart_disease           \n",
       "0              4632  202\n",
       "1               229   47"
      ]
     },
     "execution_count": 30,
     "metadata": {},
     "output_type": "execute_result"
    }
   ],
   "source": [
    "# chi2- test : heart_disease and stroke\n",
    "\n",
    "contigency_table = pd.crosstab(df.heart_disease,df.stroke)\n",
    "contigency_table"
   ]
  },
  {
   "cell_type": "code",
   "execution_count": 31,
   "id": "7ebf51c5",
   "metadata": {},
   "outputs": [],
   "source": [
    "chi_2, p_val, dof, exp_val = chi2_contingency(contigency_table)"
   ]
  },
  {
   "cell_type": "code",
   "execution_count": 32,
   "id": "ee1c3553",
   "metadata": {},
   "outputs": [
    {
     "data": {
      "text/plain": [
       "90.26"
      ]
     },
     "execution_count": 32,
     "metadata": {},
     "output_type": "execute_result"
    }
   ],
   "source": [
    "chi_2.round(2)"
   ]
  },
  {
   "cell_type": "code",
   "execution_count": 33,
   "id": "512a8ce4",
   "metadata": {},
   "outputs": [
    {
     "data": {
      "text/plain": [
       "(1, 2.0887845685229236e-21)"
      ]
     },
     "execution_count": 33,
     "metadata": {},
     "output_type": "execute_result"
    }
   ],
   "source": [
    "dof,p_val"
   ]
  },
  {
   "cell_type": "code",
   "execution_count": 34,
   "id": "502cfe17",
   "metadata": {},
   "outputs": [
    {
     "name": "stdout",
     "output_type": "stream",
     "text": [
      "There is a correlation between the two variables at significance level 0.05  or 95% Confidence Interval\n"
     ]
    }
   ],
   "source": [
    "sig_lev = 0.05\n",
    "if p_val < sig_lev:\n",
    "    print(\"There is a correlation between the two variables at significance level {}\".format(sig_lev),' or 95% Confidence Interval')\n",
    "else:\n",
    "    print(\"There is no correlation between the two variables\")"
   ]
  },
  {
   "cell_type": "code",
   "execution_count": 35,
   "id": "35ddb4e1",
   "metadata": {},
   "outputs": [
    {
     "data": {
      "text/html": [
       "<div>\n",
       "<style scoped>\n",
       "    .dataframe tbody tr th:only-of-type {\n",
       "        vertical-align: middle;\n",
       "    }\n",
       "\n",
       "    .dataframe tbody tr th {\n",
       "        vertical-align: top;\n",
       "    }\n",
       "\n",
       "    .dataframe thead th {\n",
       "        text-align: right;\n",
       "    }\n",
       "</style>\n",
       "<table border=\"1\" class=\"dataframe\">\n",
       "  <thead>\n",
       "    <tr style=\"text-align: right;\">\n",
       "      <th>stroke</th>\n",
       "      <th>0</th>\n",
       "      <th>1</th>\n",
       "    </tr>\n",
       "    <tr>\n",
       "      <th>smoking_status</th>\n",
       "      <th></th>\n",
       "      <th></th>\n",
       "    </tr>\n",
       "  </thead>\n",
       "  <tbody>\n",
       "    <tr>\n",
       "      <th>Unknown</th>\n",
       "      <td>1497</td>\n",
       "      <td>47</td>\n",
       "    </tr>\n",
       "    <tr>\n",
       "      <th>formerly smoked</th>\n",
       "      <td>815</td>\n",
       "      <td>70</td>\n",
       "    </tr>\n",
       "    <tr>\n",
       "      <th>never smoked</th>\n",
       "      <td>1802</td>\n",
       "      <td>90</td>\n",
       "    </tr>\n",
       "    <tr>\n",
       "      <th>smokes</th>\n",
       "      <td>747</td>\n",
       "      <td>42</td>\n",
       "    </tr>\n",
       "  </tbody>\n",
       "</table>\n",
       "</div>"
      ],
      "text/plain": [
       "stroke              0   1\n",
       "smoking_status           \n",
       "Unknown          1497  47\n",
       "formerly smoked   815  70\n",
       "never smoked     1802  90\n",
       "smokes            747  42"
      ]
     },
     "execution_count": 35,
     "metadata": {},
     "output_type": "execute_result"
    }
   ],
   "source": [
    "# chi2- test : smoking_status and stroke\n",
    "\n",
    "contigency_table = pd.crosstab(df.smoking_status,df.stroke)\n",
    "contigency_table"
   ]
  },
  {
   "cell_type": "code",
   "execution_count": 36,
   "id": "459ba90c",
   "metadata": {},
   "outputs": [],
   "source": [
    "chi_2, p_val, dof, exp_val = chi2_contingency(contigency_table)"
   ]
  },
  {
   "cell_type": "code",
   "execution_count": 37,
   "id": "51825f3c",
   "metadata": {},
   "outputs": [
    {
     "data": {
      "text/plain": [
       "(29.15,\n",
       " array([[1468.76,   75.24],\n",
       "        [ 841.88,   43.12],\n",
       "        [1799.81,   92.19],\n",
       "        [ 750.55,   38.45]]))"
      ]
     },
     "execution_count": 37,
     "metadata": {},
     "output_type": "execute_result"
    }
   ],
   "source": [
    "chi_2.round(2),exp_val.round(2) "
   ]
  },
  {
   "cell_type": "code",
   "execution_count": 38,
   "id": "d711cbb9",
   "metadata": {},
   "outputs": [
    {
     "data": {
      "text/plain": [
       "(3, 2.0853997025008455e-06)"
      ]
     },
     "execution_count": 38,
     "metadata": {},
     "output_type": "execute_result"
    }
   ],
   "source": [
    "dof,p_val"
   ]
  },
  {
   "cell_type": "code",
   "execution_count": 39,
   "id": "5ae4022c",
   "metadata": {},
   "outputs": [
    {
     "name": "stdout",
     "output_type": "stream",
     "text": [
      "There is a correlation between the two variables at significance level 0.05  or 95% Confidence Interval\n"
     ]
    }
   ],
   "source": [
    "sig_lev = 0.05\n",
    "if p_val < sig_lev:\n",
    "    print(\"There is a correlation between the two variables at significance level {}\".format(sig_lev),' or 95% Confidence Interval')\n",
    "else:\n",
    "    print(\"There is no correlation between the two variables\")"
   ]
  },
  {
   "cell_type": "markdown",
   "id": "ef984829",
   "metadata": {},
   "source": [
    "# encoding "
   ]
  },
  {
   "cell_type": "code",
   "execution_count": 40,
   "id": "9eb100c9",
   "metadata": {},
   "outputs": [
    {
     "data": {
      "text/html": [
       "<div>\n",
       "<style scoped>\n",
       "    .dataframe tbody tr th:only-of-type {\n",
       "        vertical-align: middle;\n",
       "    }\n",
       "\n",
       "    .dataframe tbody tr th {\n",
       "        vertical-align: top;\n",
       "    }\n",
       "\n",
       "    .dataframe thead th {\n",
       "        text-align: right;\n",
       "    }\n",
       "</style>\n",
       "<table border=\"1\" class=\"dataframe\">\n",
       "  <thead>\n",
       "    <tr style=\"text-align: right;\">\n",
       "      <th></th>\n",
       "      <th>Sex_Male</th>\n",
       "    </tr>\n",
       "  </thead>\n",
       "  <tbody>\n",
       "    <tr>\n",
       "      <th>0</th>\n",
       "      <td>1</td>\n",
       "    </tr>\n",
       "    <tr>\n",
       "      <th>1</th>\n",
       "      <td>0</td>\n",
       "    </tr>\n",
       "    <tr>\n",
       "      <th>2</th>\n",
       "      <td>1</td>\n",
       "    </tr>\n",
       "    <tr>\n",
       "      <th>3</th>\n",
       "      <td>0</td>\n",
       "    </tr>\n",
       "    <tr>\n",
       "      <th>4</th>\n",
       "      <td>0</td>\n",
       "    </tr>\n",
       "  </tbody>\n",
       "</table>\n",
       "</div>"
      ],
      "text/plain": [
       "   Sex_Male\n",
       "0         1\n",
       "1         0\n",
       "2         1\n",
       "3         0\n",
       "4         0"
      ]
     },
     "execution_count": 40,
     "metadata": {},
     "output_type": "execute_result"
    }
   ],
   "source": [
    "gender= df.gender    \n",
    "gen_dummies = pd.get_dummies(gender, prefix='Sex',drop_first=True)\n",
    "gen_dummies.head()"
   ]
  },
  {
   "cell_type": "code",
   "execution_count": 41,
   "id": "9363310d",
   "metadata": {},
   "outputs": [
    {
     "data": {
      "text/html": [
       "<div>\n",
       "<style scoped>\n",
       "    .dataframe tbody tr th:only-of-type {\n",
       "        vertical-align: middle;\n",
       "    }\n",
       "\n",
       "    .dataframe tbody tr th {\n",
       "        vertical-align: top;\n",
       "    }\n",
       "\n",
       "    .dataframe thead th {\n",
       "        text-align: right;\n",
       "    }\n",
       "</style>\n",
       "<table border=\"1\" class=\"dataframe\">\n",
       "  <thead>\n",
       "    <tr style=\"text-align: right;\">\n",
       "      <th></th>\n",
       "      <th>Smoking_formerly smoked</th>\n",
       "      <th>Smoking_never smoked</th>\n",
       "      <th>Smoking_smokes</th>\n",
       "    </tr>\n",
       "  </thead>\n",
       "  <tbody>\n",
       "    <tr>\n",
       "      <th>0</th>\n",
       "      <td>1</td>\n",
       "      <td>0</td>\n",
       "      <td>0</td>\n",
       "    </tr>\n",
       "    <tr>\n",
       "      <th>1</th>\n",
       "      <td>0</td>\n",
       "      <td>1</td>\n",
       "      <td>0</td>\n",
       "    </tr>\n",
       "    <tr>\n",
       "      <th>2</th>\n",
       "      <td>0</td>\n",
       "      <td>1</td>\n",
       "      <td>0</td>\n",
       "    </tr>\n",
       "    <tr>\n",
       "      <th>3</th>\n",
       "      <td>0</td>\n",
       "      <td>0</td>\n",
       "      <td>1</td>\n",
       "    </tr>\n",
       "    <tr>\n",
       "      <th>4</th>\n",
       "      <td>0</td>\n",
       "      <td>1</td>\n",
       "      <td>0</td>\n",
       "    </tr>\n",
       "  </tbody>\n",
       "</table>\n",
       "</div>"
      ],
      "text/plain": [
       "   Smoking_formerly smoked  Smoking_never smoked  Smoking_smokes\n",
       "0                        1                     0               0\n",
       "1                        0                     1               0\n",
       "2                        0                     1               0\n",
       "3                        0                     0               1\n",
       "4                        0                     1               0"
      ]
     },
     "execution_count": 41,
     "metadata": {},
     "output_type": "execute_result"
    }
   ],
   "source": [
    "smoking_status= df.smoking_status   \n",
    "sts_dummies = pd.get_dummies(smoking_status, prefix='Smoking',drop_first=True)\n",
    "sts_dummies.head()"
   ]
  },
  {
   "cell_type": "code",
   "execution_count": 42,
   "id": "d2b56da8",
   "metadata": {},
   "outputs": [],
   "source": [
    "z = df.drop([\"gender\",'smoking_status'],axis = 1)"
   ]
  },
  {
   "cell_type": "code",
   "execution_count": 43,
   "id": "41b37214",
   "metadata": {},
   "outputs": [
    {
     "data": {
      "text/html": [
       "<div>\n",
       "<style scoped>\n",
       "    .dataframe tbody tr th:only-of-type {\n",
       "        vertical-align: middle;\n",
       "    }\n",
       "\n",
       "    .dataframe tbody tr th {\n",
       "        vertical-align: top;\n",
       "    }\n",
       "\n",
       "    .dataframe thead th {\n",
       "        text-align: right;\n",
       "    }\n",
       "</style>\n",
       "<table border=\"1\" class=\"dataframe\">\n",
       "  <thead>\n",
       "    <tr style=\"text-align: right;\">\n",
       "      <th></th>\n",
       "      <th>Sex_Male</th>\n",
       "      <th>Smoking_formerly smoked</th>\n",
       "      <th>Smoking_never smoked</th>\n",
       "      <th>Smoking_smokes</th>\n",
       "      <th>age</th>\n",
       "      <th>hypertension</th>\n",
       "      <th>heart_disease</th>\n",
       "      <th>avg_glucose_level</th>\n",
       "      <th>bmi</th>\n",
       "      <th>stroke</th>\n",
       "    </tr>\n",
       "  </thead>\n",
       "  <tbody>\n",
       "    <tr>\n",
       "      <th>0</th>\n",
       "      <td>1</td>\n",
       "      <td>1</td>\n",
       "      <td>0</td>\n",
       "      <td>0</td>\n",
       "      <td>67.0</td>\n",
       "      <td>0</td>\n",
       "      <td>1</td>\n",
       "      <td>228.69</td>\n",
       "      <td>36.600000</td>\n",
       "      <td>1</td>\n",
       "    </tr>\n",
       "    <tr>\n",
       "      <th>1</th>\n",
       "      <td>0</td>\n",
       "      <td>0</td>\n",
       "      <td>1</td>\n",
       "      <td>0</td>\n",
       "      <td>61.0</td>\n",
       "      <td>0</td>\n",
       "      <td>0</td>\n",
       "      <td>202.21</td>\n",
       "      <td>28.893237</td>\n",
       "      <td>1</td>\n",
       "    </tr>\n",
       "    <tr>\n",
       "      <th>2</th>\n",
       "      <td>1</td>\n",
       "      <td>0</td>\n",
       "      <td>1</td>\n",
       "      <td>0</td>\n",
       "      <td>80.0</td>\n",
       "      <td>0</td>\n",
       "      <td>1</td>\n",
       "      <td>105.92</td>\n",
       "      <td>32.500000</td>\n",
       "      <td>1</td>\n",
       "    </tr>\n",
       "    <tr>\n",
       "      <th>3</th>\n",
       "      <td>0</td>\n",
       "      <td>0</td>\n",
       "      <td>0</td>\n",
       "      <td>1</td>\n",
       "      <td>49.0</td>\n",
       "      <td>0</td>\n",
       "      <td>0</td>\n",
       "      <td>171.23</td>\n",
       "      <td>34.400000</td>\n",
       "      <td>1</td>\n",
       "    </tr>\n",
       "    <tr>\n",
       "      <th>4</th>\n",
       "      <td>0</td>\n",
       "      <td>0</td>\n",
       "      <td>1</td>\n",
       "      <td>0</td>\n",
       "      <td>79.0</td>\n",
       "      <td>1</td>\n",
       "      <td>0</td>\n",
       "      <td>174.12</td>\n",
       "      <td>24.000000</td>\n",
       "      <td>1</td>\n",
       "    </tr>\n",
       "  </tbody>\n",
       "</table>\n",
       "</div>"
      ],
      "text/plain": [
       "   Sex_Male  Smoking_formerly smoked  Smoking_never smoked  Smoking_smokes  \\\n",
       "0         1                        1                     0               0   \n",
       "1         0                        0                     1               0   \n",
       "2         1                        0                     1               0   \n",
       "3         0                        0                     0               1   \n",
       "4         0                        0                     1               0   \n",
       "\n",
       "    age  hypertension  heart_disease  avg_glucose_level        bmi  stroke  \n",
       "0  67.0             0              1             228.69  36.600000       1  \n",
       "1  61.0             0              0             202.21  28.893237       1  \n",
       "2  80.0             0              1             105.92  32.500000       1  \n",
       "3  49.0             0              0             171.23  34.400000       1  \n",
       "4  79.0             1              0             174.12  24.000000       1  "
      ]
     },
     "execution_count": 43,
     "metadata": {},
     "output_type": "execute_result"
    }
   ],
   "source": [
    "df_new2 = pd.concat([gen_dummies,sts_dummies,z],axis = 1)\n",
    "df_new2.head()"
   ]
  },
  {
   "cell_type": "code",
   "execution_count": 44,
   "id": "fda28b22",
   "metadata": {},
   "outputs": [
    {
     "data": {
      "text/html": [
       "<div>\n",
       "<style scoped>\n",
       "    .dataframe tbody tr th:only-of-type {\n",
       "        vertical-align: middle;\n",
       "    }\n",
       "\n",
       "    .dataframe tbody tr th {\n",
       "        vertical-align: top;\n",
       "    }\n",
       "\n",
       "    .dataframe thead th {\n",
       "        text-align: right;\n",
       "    }\n",
       "</style>\n",
       "<table border=\"1\" class=\"dataframe\">\n",
       "  <thead>\n",
       "    <tr style=\"text-align: right;\">\n",
       "      <th></th>\n",
       "      <th>Sex_Male</th>\n",
       "      <th>Smoking_formerly smoked</th>\n",
       "      <th>Smoking_never smoked</th>\n",
       "      <th>Smoking_smokes</th>\n",
       "      <th>age</th>\n",
       "      <th>hypertension</th>\n",
       "      <th>heart_disease</th>\n",
       "      <th>avg_glucose_level</th>\n",
       "      <th>bmi</th>\n",
       "      <th>stroke</th>\n",
       "    </tr>\n",
       "  </thead>\n",
       "  <tbody>\n",
       "    <tr>\n",
       "      <th>0</th>\n",
       "      <td>1</td>\n",
       "      <td>1</td>\n",
       "      <td>0</td>\n",
       "      <td>0</td>\n",
       "      <td>67.0</td>\n",
       "      <td>0</td>\n",
       "      <td>1</td>\n",
       "      <td>228.69</td>\n",
       "      <td>36.600000</td>\n",
       "      <td>1</td>\n",
       "    </tr>\n",
       "    <tr>\n",
       "      <th>1</th>\n",
       "      <td>0</td>\n",
       "      <td>0</td>\n",
       "      <td>1</td>\n",
       "      <td>0</td>\n",
       "      <td>61.0</td>\n",
       "      <td>0</td>\n",
       "      <td>0</td>\n",
       "      <td>202.21</td>\n",
       "      <td>28.893237</td>\n",
       "      <td>1</td>\n",
       "    </tr>\n",
       "    <tr>\n",
       "      <th>2</th>\n",
       "      <td>1</td>\n",
       "      <td>0</td>\n",
       "      <td>1</td>\n",
       "      <td>0</td>\n",
       "      <td>80.0</td>\n",
       "      <td>0</td>\n",
       "      <td>1</td>\n",
       "      <td>105.92</td>\n",
       "      <td>32.500000</td>\n",
       "      <td>1</td>\n",
       "    </tr>\n",
       "    <tr>\n",
       "      <th>3</th>\n",
       "      <td>0</td>\n",
       "      <td>0</td>\n",
       "      <td>0</td>\n",
       "      <td>1</td>\n",
       "      <td>49.0</td>\n",
       "      <td>0</td>\n",
       "      <td>0</td>\n",
       "      <td>171.23</td>\n",
       "      <td>34.400000</td>\n",
       "      <td>1</td>\n",
       "    </tr>\n",
       "    <tr>\n",
       "      <th>4</th>\n",
       "      <td>0</td>\n",
       "      <td>0</td>\n",
       "      <td>1</td>\n",
       "      <td>0</td>\n",
       "      <td>79.0</td>\n",
       "      <td>1</td>\n",
       "      <td>0</td>\n",
       "      <td>174.12</td>\n",
       "      <td>24.000000</td>\n",
       "      <td>1</td>\n",
       "    </tr>\n",
       "  </tbody>\n",
       "</table>\n",
       "</div>"
      ],
      "text/plain": [
       "   Sex_Male  Smoking_formerly smoked  Smoking_never smoked  Smoking_smokes  \\\n",
       "0         1                        1                     0               0   \n",
       "1         0                        0                     1               0   \n",
       "2         1                        0                     1               0   \n",
       "3         0                        0                     0               1   \n",
       "4         0                        0                     1               0   \n",
       "\n",
       "    age  hypertension  heart_disease  avg_glucose_level        bmi  stroke  \n",
       "0  67.0             0              1             228.69  36.600000       1  \n",
       "1  61.0             0              0             202.21  28.893237       1  \n",
       "2  80.0             0              1             105.92  32.500000       1  \n",
       "3  49.0             0              0             171.23  34.400000       1  \n",
       "4  79.0             1              0             174.12  24.000000       1  "
      ]
     },
     "execution_count": 44,
     "metadata": {},
     "output_type": "execute_result"
    }
   ],
   "source": [
    "df = df_new2\n",
    "df.head()"
   ]
  },
  {
   "cell_type": "markdown",
   "id": "6ead8567",
   "metadata": {},
   "source": [
    "Spliting data for traning and testing purpose"
   ]
  },
  {
   "cell_type": "code",
   "execution_count": 45,
   "id": "2e19c6b1",
   "metadata": {},
   "outputs": [
    {
     "data": {
      "text/html": [
       "<div>\n",
       "<style scoped>\n",
       "    .dataframe tbody tr th:only-of-type {\n",
       "        vertical-align: middle;\n",
       "    }\n",
       "\n",
       "    .dataframe tbody tr th {\n",
       "        vertical-align: top;\n",
       "    }\n",
       "\n",
       "    .dataframe thead th {\n",
       "        text-align: right;\n",
       "    }\n",
       "</style>\n",
       "<table border=\"1\" class=\"dataframe\">\n",
       "  <thead>\n",
       "    <tr style=\"text-align: right;\">\n",
       "      <th></th>\n",
       "      <th>Sex_Male</th>\n",
       "      <th>Smoking_formerly smoked</th>\n",
       "      <th>Smoking_never smoked</th>\n",
       "      <th>Smoking_smokes</th>\n",
       "      <th>age</th>\n",
       "      <th>hypertension</th>\n",
       "      <th>heart_disease</th>\n",
       "      <th>avg_glucose_level</th>\n",
       "      <th>bmi</th>\n",
       "    </tr>\n",
       "  </thead>\n",
       "  <tbody>\n",
       "    <tr>\n",
       "      <th>0</th>\n",
       "      <td>1</td>\n",
       "      <td>1</td>\n",
       "      <td>0</td>\n",
       "      <td>0</td>\n",
       "      <td>67.0</td>\n",
       "      <td>0</td>\n",
       "      <td>1</td>\n",
       "      <td>228.69</td>\n",
       "      <td>36.600000</td>\n",
       "    </tr>\n",
       "    <tr>\n",
       "      <th>1</th>\n",
       "      <td>0</td>\n",
       "      <td>0</td>\n",
       "      <td>1</td>\n",
       "      <td>0</td>\n",
       "      <td>61.0</td>\n",
       "      <td>0</td>\n",
       "      <td>0</td>\n",
       "      <td>202.21</td>\n",
       "      <td>28.893237</td>\n",
       "    </tr>\n",
       "    <tr>\n",
       "      <th>2</th>\n",
       "      <td>1</td>\n",
       "      <td>0</td>\n",
       "      <td>1</td>\n",
       "      <td>0</td>\n",
       "      <td>80.0</td>\n",
       "      <td>0</td>\n",
       "      <td>1</td>\n",
       "      <td>105.92</td>\n",
       "      <td>32.500000</td>\n",
       "    </tr>\n",
       "    <tr>\n",
       "      <th>3</th>\n",
       "      <td>0</td>\n",
       "      <td>0</td>\n",
       "      <td>0</td>\n",
       "      <td>1</td>\n",
       "      <td>49.0</td>\n",
       "      <td>0</td>\n",
       "      <td>0</td>\n",
       "      <td>171.23</td>\n",
       "      <td>34.400000</td>\n",
       "    </tr>\n",
       "    <tr>\n",
       "      <th>4</th>\n",
       "      <td>0</td>\n",
       "      <td>0</td>\n",
       "      <td>1</td>\n",
       "      <td>0</td>\n",
       "      <td>79.0</td>\n",
       "      <td>1</td>\n",
       "      <td>0</td>\n",
       "      <td>174.12</td>\n",
       "      <td>24.000000</td>\n",
       "    </tr>\n",
       "  </tbody>\n",
       "</table>\n",
       "</div>"
      ],
      "text/plain": [
       "   Sex_Male  Smoking_formerly smoked  Smoking_never smoked  Smoking_smokes  \\\n",
       "0         1                        1                     0               0   \n",
       "1         0                        0                     1               0   \n",
       "2         1                        0                     1               0   \n",
       "3         0                        0                     0               1   \n",
       "4         0                        0                     1               0   \n",
       "\n",
       "    age  hypertension  heart_disease  avg_glucose_level        bmi  \n",
       "0  67.0             0              1             228.69  36.600000  \n",
       "1  61.0             0              0             202.21  28.893237  \n",
       "2  80.0             0              1             105.92  32.500000  \n",
       "3  49.0             0              0             171.23  34.400000  \n",
       "4  79.0             1              0             174.12  24.000000  "
      ]
     },
     "execution_count": 45,
     "metadata": {},
     "output_type": "execute_result"
    }
   ],
   "source": [
    "#for training data set\n",
    "\n",
    "X = df.iloc[0:,0:9]\n",
    "X.head()"
   ]
  },
  {
   "cell_type": "code",
   "execution_count": 46,
   "id": "f66e8499",
   "metadata": {},
   "outputs": [
    {
     "data": {
      "text/plain": [
       "0    1\n",
       "1    1\n",
       "2    1\n",
       "3    1\n",
       "4    1\n",
       "Name: stroke, dtype: int64"
      ]
     },
     "execution_count": 46,
     "metadata": {},
     "output_type": "execute_result"
    }
   ],
   "source": [
    "#for testing data set\n",
    "\n",
    "y = df.iloc[0:,9]\n",
    "y.head()"
   ]
  },
  {
   "cell_type": "code",
   "execution_count": 47,
   "id": "898eb00e",
   "metadata": {},
   "outputs": [
    {
     "data": {
      "text/plain": [
       "0    4861\n",
       "1     249\n",
       "Name: stroke, dtype: int64"
      ]
     },
     "execution_count": 47,
     "metadata": {},
     "output_type": "execute_result"
    }
   ],
   "source": [
    "y.value_counts()"
   ]
  },
  {
   "cell_type": "markdown",
   "id": "252bf1f5",
   "metadata": {},
   "source": [
    "# KNN"
   ]
  },
  {
   "cell_type": "code",
   "execution_count": 66,
   "id": "9240061c",
   "metadata": {},
   "outputs": [],
   "source": [
    "#importing libraries from sklearn;\n",
    "from sklearn import datasets, neighbors\n",
    "from sklearn.model_selection import train_test_split"
   ]
  },
  {
   "cell_type": "code",
   "execution_count": 69,
   "id": "d4c6b950",
   "metadata": {},
   "outputs": [],
   "source": [
    "knn = neighbors.KNeighborsClassifier(n_neighbors=10,leaf_size=30)\n",
    "X_train, X_test, y_train, y_test = train_test_split(X, y, test_size=0.20)"
   ]
  },
  {
   "cell_type": "code",
   "execution_count": 70,
   "id": "49be0d40",
   "metadata": {},
   "outputs": [
    {
     "name": "stdout",
     "output_type": "stream",
     "text": [
      "KNN score: 0.955969\n"
     ]
    }
   ],
   "source": [
    "print('KNN score: %f' % knn.fit(X_train, y_train).score(X_test, y_test))"
   ]
  },
  {
   "cell_type": "code",
   "execution_count": 71,
   "id": "f62016cf",
   "metadata": {},
   "outputs": [
    {
     "data": {
      "text/plain": [
       "KNeighborsClassifier(n_neighbors=10)"
      ]
     },
     "execution_count": 71,
     "metadata": {},
     "output_type": "execute_result"
    }
   ],
   "source": [
    "knn.fit(X_train, y_train)"
   ]
  },
  {
   "cell_type": "code",
   "execution_count": 72,
   "id": "4a3b9226",
   "metadata": {},
   "outputs": [],
   "source": [
    "pred = knn.predict(X_test)"
   ]
  },
  {
   "cell_type": "code",
   "execution_count": 77,
   "id": "3c3a0eac",
   "metadata": {},
   "outputs": [
    {
     "name": "stdout",
     "output_type": "stream",
     "text": [
      "0.956\n"
     ]
    }
   ],
   "source": [
    "score = knn.score(X_test, y_test)\n",
    "knn_test_score = round(score,4)\n",
    "print(knn_test_score)"
   ]
  },
  {
   "cell_type": "markdown",
   "id": "fb14e627",
   "metadata": {},
   "source": [
    "# RANDOM FOREST"
   ]
  },
  {
   "cell_type": "code",
   "execution_count": 84,
   "id": "ed95ee72",
   "metadata": {},
   "outputs": [],
   "source": [
    "#importing libraries \n",
    "from sklearn.ensemble import RandomForestClassifier"
   ]
  },
  {
   "cell_type": "code",
   "execution_count": 88,
   "id": "1b0d564d",
   "metadata": {},
   "outputs": [],
   "source": [
    "rf = RandomForestClassifier(n_estimators = 1000, random_state = 40)"
   ]
  },
  {
   "cell_type": "code",
   "execution_count": 108,
   "id": "84e81725",
   "metadata": {},
   "outputs": [
    {
     "data": {
      "text/plain": [
       "RandomForestClassifier(n_estimators=1000, random_state=40)"
      ]
     },
     "execution_count": 108,
     "metadata": {},
     "output_type": "execute_result"
    }
   ],
   "source": [
    "rf.fit(X_train, y_train)"
   ]
  },
  {
   "cell_type": "code",
   "execution_count": 109,
   "id": "8f2efa4c",
   "metadata": {},
   "outputs": [
    {
     "name": "stdout",
     "output_type": "stream",
     "text": [
      "1.0\n"
     ]
    }
   ],
   "source": [
    "score = rf.score(X_train, y_train)\n",
    "rForest_score = round(score,4)\n",
    "print (rForest_score )"
   ]
  },
  {
   "cell_type": "code",
   "execution_count": 91,
   "id": "92246c5b",
   "metadata": {},
   "outputs": [],
   "source": [
    "# Use the forest's predict method on the test data\n",
    "predictions = rf.predict(X_test)"
   ]
  },
  {
   "cell_type": "code",
   "execution_count": 92,
   "id": "c49f43bb",
   "metadata": {},
   "outputs": [],
   "source": [
    "# Calculate the absolute errors\n",
    "errors = abs(predictions - y_test)"
   ]
  },
  {
   "cell_type": "code",
   "execution_count": 94,
   "id": "428fc333",
   "metadata": {},
   "outputs": [
    {
     "name": "stdout",
     "output_type": "stream",
     "text": [
      "Mean Absolute Error: 0.0\n"
     ]
    }
   ],
   "source": [
    "# Print out the mean absolute error (mae)\n",
    "print('Mean Absolute Error:', round(np.mean(errors), 3))"
   ]
  },
  {
   "cell_type": "code",
   "execution_count": 95,
   "id": "809a75bc",
   "metadata": {},
   "outputs": [],
   "source": [
    "# Calculate mean absolute percentage error (MAPE)\n",
    "mape = 100 * (errors / y_test)"
   ]
  },
  {
   "cell_type": "code",
   "execution_count": 96,
   "id": "daa43676",
   "metadata": {},
   "outputs": [
    {
     "name": "stdout",
     "output_type": "stream",
     "text": [
      "Accuracy: 100.0 %.\n"
     ]
    }
   ],
   "source": [
    "# Calculate and display accuracy\n",
    "accuracy = 100 - np.mean(mape)\n",
    "print('Accuracy:', round(accuracy, 2), '%.')"
   ]
  },
  {
   "cell_type": "markdown",
   "id": "0a744fe6",
   "metadata": {},
   "source": [
    "# Modeling "
   ]
  },
  {
   "cell_type": "code",
   "execution_count": 48,
   "id": "8a0dd8fd",
   "metadata": {},
   "outputs": [
    {
     "data": {
      "text/html": [
       "<div>\n",
       "<style scoped>\n",
       "    .dataframe tbody tr th:only-of-type {\n",
       "        vertical-align: middle;\n",
       "    }\n",
       "\n",
       "    .dataframe tbody tr th {\n",
       "        vertical-align: top;\n",
       "    }\n",
       "\n",
       "    .dataframe thead th {\n",
       "        text-align: right;\n",
       "    }\n",
       "</style>\n",
       "<table border=\"1\" class=\"dataframe\">\n",
       "  <thead>\n",
       "    <tr style=\"text-align: right;\">\n",
       "      <th></th>\n",
       "      <th>Sex_Male</th>\n",
       "      <th>Smoking_formerly smoked</th>\n",
       "      <th>Smoking_never smoked</th>\n",
       "      <th>Smoking_smokes</th>\n",
       "      <th>age</th>\n",
       "      <th>hypertension</th>\n",
       "      <th>heart_disease</th>\n",
       "      <th>avg_glucose_level</th>\n",
       "      <th>bmi</th>\n",
       "    </tr>\n",
       "  </thead>\n",
       "  <tbody>\n",
       "    <tr>\n",
       "      <th>42</th>\n",
       "      <td>1</td>\n",
       "      <td>0</td>\n",
       "      <td>0</td>\n",
       "      <td>1</td>\n",
       "      <td>82.0</td>\n",
       "      <td>0</td>\n",
       "      <td>1</td>\n",
       "      <td>144.90</td>\n",
       "      <td>26.4</td>\n",
       "    </tr>\n",
       "    <tr>\n",
       "      <th>380</th>\n",
       "      <td>1</td>\n",
       "      <td>0</td>\n",
       "      <td>0</td>\n",
       "      <td>0</td>\n",
       "      <td>4.0</td>\n",
       "      <td>0</td>\n",
       "      <td>0</td>\n",
       "      <td>106.22</td>\n",
       "      <td>16.7</td>\n",
       "    </tr>\n",
       "    <tr>\n",
       "      <th>3524</th>\n",
       "      <td>1</td>\n",
       "      <td>0</td>\n",
       "      <td>1</td>\n",
       "      <td>0</td>\n",
       "      <td>58.0</td>\n",
       "      <td>0</td>\n",
       "      <td>0</td>\n",
       "      <td>79.95</td>\n",
       "      <td>25.9</td>\n",
       "    </tr>\n",
       "    <tr>\n",
       "      <th>352</th>\n",
       "      <td>0</td>\n",
       "      <td>0</td>\n",
       "      <td>1</td>\n",
       "      <td>0</td>\n",
       "      <td>20.0</td>\n",
       "      <td>0</td>\n",
       "      <td>0</td>\n",
       "      <td>96.57</td>\n",
       "      <td>34.1</td>\n",
       "    </tr>\n",
       "    <tr>\n",
       "      <th>4927</th>\n",
       "      <td>0</td>\n",
       "      <td>0</td>\n",
       "      <td>0</td>\n",
       "      <td>0</td>\n",
       "      <td>10.0</td>\n",
       "      <td>0</td>\n",
       "      <td>0</td>\n",
       "      <td>69.84</td>\n",
       "      <td>13.7</td>\n",
       "    </tr>\n",
       "  </tbody>\n",
       "</table>\n",
       "</div>"
      ],
      "text/plain": [
       "      Sex_Male  Smoking_formerly smoked  Smoking_never smoked  Smoking_smokes  \\\n",
       "42           1                        0                     0               1   \n",
       "380          1                        0                     0               0   \n",
       "3524         1                        0                     1               0   \n",
       "352          0                        0                     1               0   \n",
       "4927         0                        0                     0               0   \n",
       "\n",
       "       age  hypertension  heart_disease  avg_glucose_level   bmi  \n",
       "42    82.0             0              1             144.90  26.4  \n",
       "380    4.0             0              0             106.22  16.7  \n",
       "3524  58.0             0              0              79.95  25.9  \n",
       "352   20.0             0              0              96.57  34.1  \n",
       "4927  10.0             0              0              69.84  13.7  "
      ]
     },
     "execution_count": 48,
     "metadata": {},
     "output_type": "execute_result"
    }
   ],
   "source": [
    "from sklearn.model_selection import train_test_split\n",
    "from sklearn.metrics import plot_confusion_matrix\n",
    "\n",
    "X_train,X_test,y_train,y_test = train_test_split(X,y,random_state=0,test_size=0.25) \n",
    "#random_state means we are going to shuffle the data\n",
    "# here we splliting our data 75% for train and 25% data for testing\n",
    "X_test.head()"
   ]
  },
  {
   "cell_type": "code",
   "execution_count": 49,
   "id": "c34bd6e3",
   "metadata": {},
   "outputs": [
    {
     "data": {
      "text/plain": [
       "42      1\n",
       "380     0\n",
       "3524    0\n",
       "352     0\n",
       "4927    0\n",
       "Name: stroke, dtype: int64"
      ]
     },
     "execution_count": 49,
     "metadata": {},
     "output_type": "execute_result"
    }
   ],
   "source": [
    "y_test.head()"
   ]
  },
  {
   "cell_type": "markdown",
   "id": "a5d4bd48",
   "metadata": {},
   "source": [
    "# import Logistic Regression"
   ]
  },
  {
   "cell_type": "code",
   "execution_count": 50,
   "id": "3cdd9275",
   "metadata": {},
   "outputs": [
    {
     "name": "stderr",
     "output_type": "stream",
     "text": [
      "C:\\ProgramData\\Anaconda3\\lib\\site-packages\\sklearn\\linear_model\\_logistic.py:763: ConvergenceWarning: lbfgs failed to converge (status=1):\n",
      "STOP: TOTAL NO. of ITERATIONS REACHED LIMIT.\n",
      "\n",
      "Increase the number of iterations (max_iter) or scale the data as shown in:\n",
      "    https://scikit-learn.org/stable/modules/preprocessing.html\n",
      "Please also refer to the documentation for alternative solver options:\n",
      "    https://scikit-learn.org/stable/modules/linear_model.html#logistic-regression\n",
      "  n_iter_i = _check_optimize_result(\n"
     ]
    },
    {
     "data": {
      "text/plain": [
       "LogisticRegression()"
      ]
     },
     "execution_count": 50,
     "metadata": {},
     "output_type": "execute_result"
    }
   ],
   "source": [
    "from sklearn.linear_model import LogisticRegression\n",
    "model = LogisticRegression()\n",
    "model.fit(X_train,y_train)"
   ]
  },
  {
   "cell_type": "code",
   "execution_count": 51,
   "id": "758ae3d4",
   "metadata": {},
   "outputs": [],
   "source": [
    "from sklearn.preprocessing import StandardScaler \n",
    "# StandardScaler/scaling: works as faster and smoother way for doing the iteration.Since we have a warning showing in above,\n",
    "# scaling helps to do the iteration in a better way.\n",
    "sc = StandardScaler()\n",
    "X_train_scaled = sc.fit_transform(X_train) #here fit is used for trainnig or building the model"
   ]
  },
  {
   "cell_type": "code",
   "execution_count": 52,
   "id": "d5e60d8c",
   "metadata": {},
   "outputs": [],
   "source": [
    "model = LogisticRegression(max_iter=500,tol=0.001,solver='saga', \n",
    "                           class_weight={False:1, True:15}) \n",
    "\n",
    "#We use saga solver for large dataset \n",
    "#and class_weight to deal with the imbalance data."
   ]
  },
  {
   "cell_type": "code",
   "execution_count": 53,
   "id": "8edc4b0f",
   "metadata": {},
   "outputs": [
    {
     "name": "stderr",
     "output_type": "stream",
     "text": [
      "C:\\ProgramData\\Anaconda3\\lib\\site-packages\\sklearn\\linear_model\\_sag.py:328: ConvergenceWarning: The max_iter was reached which means the coef_ did not converge\n",
      "  warnings.warn(\"The max_iter was reached which means \"\n"
     ]
    },
    {
     "data": {
      "text/plain": [
       "LogisticRegression(class_weight={False: 1, True: 15}, max_iter=500,\n",
       "                   solver='saga', tol=0.001)"
      ]
     },
     "execution_count": 53,
     "metadata": {},
     "output_type": "execute_result"
    }
   ],
   "source": [
    "model.fit(X_train_scaled, y_train) "
   ]
  },
  {
   "cell_type": "code",
   "execution_count": 54,
   "id": "d10f5861",
   "metadata": {},
   "outputs": [
    {
     "data": {
      "text/plain": [
       "array([[-0.033,  0.041, -0.131,  0.03 ,  1.832,  0.082,  0.114,  0.146,\n",
       "         0.032]])"
      ]
     },
     "execution_count": 54,
     "metadata": {},
     "output_type": "execute_result"
    }
   ],
   "source": [
    "model.intercept_ #b0\n",
    "model.coef_.round(3) #' Here it shows 9 values because we have 9 attributes in the dataset'\n"
   ]
  },
  {
   "cell_type": "code",
   "execution_count": 55,
   "id": "219d3cf9",
   "metadata": {},
   "outputs": [
    {
     "data": {
      "text/plain": [
       "array([-0.33178474, -0.33178474, -0.33178474, ..., -0.33178474,\n",
       "       -0.33178474, -0.33178474])"
      ]
     },
     "execution_count": 55,
     "metadata": {},
     "output_type": "execute_result"
    }
   ],
   "source": [
    "X_test_scaled = sc.transform(X_test)\n",
    "X_test_scaled[:,5]"
   ]
  },
  {
   "cell_type": "code",
   "execution_count": 56,
   "id": "25c92794",
   "metadata": {},
   "outputs": [
    {
     "data": {
      "text/plain": [
       "array([[0.0961329 , 0.9038671 ],\n",
       "       [0.99206087, 0.00793913],\n",
       "       [0.68414779, 0.31585221],\n",
       "       ...,\n",
       "       [0.99264607, 0.00735393],\n",
       "       [0.80966306, 0.19033694],\n",
       "       [0.85974196, 0.14025804]])"
      ]
     },
     "execution_count": 56,
     "metadata": {},
     "output_type": "execute_result"
    }
   ],
   "source": [
    "#Predict_proba gives the probabilities P(y=Ci|x)\n",
    "model.predict_proba(X_test_scaled) \n",
    "#predict_proba: A method in classifiers and clusterers that can return probability estimates for each class/cluster.\n",
    "#Its input is usually only some observed data, X."
   ]
  },
  {
   "cell_type": "code",
   "execution_count": 57,
   "id": "fdb63171",
   "metadata": {},
   "outputs": [
    {
     "data": {
      "text/plain": [
       "array([[0.1 , 0.9 ],\n",
       "       [0.99, 0.01],\n",
       "       [0.68, 0.32],\n",
       "       [0.98, 0.02],\n",
       "       [0.99, 0.01],\n",
       "       [0.78, 0.22]])"
      ]
     },
     "execution_count": 57,
     "metadata": {},
     "output_type": "execute_result"
    }
   ],
   "source": [
    "probabilities_test = model.predict_proba(X_test_scaled) \n",
    "probabilities_test[0:6].round(2) #second column belongs to class 1, ie, p = P(y=1|x)"
   ]
  },
  {
   "cell_type": "code",
   "execution_count": 58,
   "id": "bd4b52c0",
   "metadata": {},
   "outputs": [
    {
     "data": {
      "text/plain": [
       "array([1, 0, 0, 0, 0, 0, 0, 0, 0, 1, 0], dtype=int64)"
      ]
     },
     "execution_count": 58,
     "metadata": {},
     "output_type": "execute_result"
    }
   ],
   "source": [
    "y_predict = model.predict(X_test_scaled)\n",
    "y_predict[0:11]"
   ]
  },
  {
   "cell_type": "code",
   "execution_count": 59,
   "id": "3c6e05fa",
   "metadata": {},
   "outputs": [],
   "source": [
    "#Predictions based on a different threshold value\n",
    "from sklearn.preprocessing import binarize\n",
    "y_predict_thresh = binarize(probabilities_test.reshape(-1,1),threshold=0.75) \n",
    "\n",
    "# using binarize function we can define our own thresholds\n",
    "# probabilities_test.reshape(-1,1) >> shows the dimension of the test data"
   ]
  },
  {
   "cell_type": "code",
   "execution_count": 60,
   "id": "5bd29734",
   "metadata": {},
   "outputs": [
    {
     "data": {
      "text/plain": [
       "array([[0.],\n",
       "       [1.],\n",
       "       [1.],\n",
       "       [0.],\n",
       "       [0.],\n",
       "       [0.],\n",
       "       [1.],\n",
       "       [0.],\n",
       "       [1.],\n",
       "       [0.],\n",
       "       [1.]])"
      ]
     },
     "execution_count": 60,
     "metadata": {},
     "output_type": "execute_result"
    }
   ],
   "source": [
    "y_predict_thresh[0:11]"
   ]
  },
  {
   "cell_type": "code",
   "execution_count": 61,
   "id": "609549ef",
   "metadata": {},
   "outputs": [
    {
     "data": {
      "text/plain": [
       "0.788"
      ]
     },
     "execution_count": 61,
     "metadata": {},
     "output_type": "execute_result"
    }
   ],
   "source": [
    "model.score(X_test_scaled,y_test).round(3)"
   ]
  },
  {
   "cell_type": "markdown",
   "id": "b7d98621",
   "metadata": {},
   "source": [
    "# ADABoost"
   ]
  },
  {
   "cell_type": "code",
   "execution_count": 97,
   "id": "4eaa2a3b",
   "metadata": {},
   "outputs": [],
   "source": [
    "from sklearn.ensemble import AdaBoostClassifier\n",
    "from sklearn import metrics\n",
    "from sklearn.datasets import make_classification"
   ]
  },
  {
   "cell_type": "code",
   "execution_count": 98,
   "id": "2997c945",
   "metadata": {},
   "outputs": [],
   "source": [
    "X_train, X_test, y_train, y_test = train_test_split(X, y, test_size=0.2)"
   ]
  },
  {
   "cell_type": "code",
   "execution_count": 99,
   "id": "5361c596",
   "metadata": {},
   "outputs": [],
   "source": [
    "# Create adaboost classifer object\n",
    "abc = AdaBoostClassifier(n_estimators=50,learning_rate=1)\n",
    "# Train Adaboost Classifer\n",
    "model = abc.fit(X_train, y_train)\n",
    "\n",
    "#Predict the response for test dataset\n",
    "y_pred = model.predict(X_test)"
   ]
  },
  {
   "cell_type": "code",
   "execution_count": 100,
   "id": "26062e16",
   "metadata": {},
   "outputs": [
    {
     "name": "stdout",
     "output_type": "stream",
     "text": [
      "Accuracy: 0.9432485322896281\n"
     ]
    }
   ],
   "source": [
    "# Model Accuracy, how often is the classifier correct?\n",
    "print(\"Accuracy:\",metrics.accuracy_score(y_test, y_pred))"
   ]
  },
  {
   "cell_type": "markdown",
   "id": "2d430a44",
   "metadata": {},
   "source": [
    "# SVM"
   ]
  },
  {
   "cell_type": "code",
   "execution_count": 101,
   "id": "ef393420",
   "metadata": {},
   "outputs": [],
   "source": [
    "from sklearn.model_selection import train_test_split\n",
    "X_train, X_test, y_train, y_test = train_test_split(X, y, test_size = 0.20)"
   ]
  },
  {
   "cell_type": "code",
   "execution_count": 102,
   "id": "c6180b38",
   "metadata": {},
   "outputs": [
    {
     "data": {
      "text/plain": [
       "SVC(kernel='poly')"
      ]
     },
     "execution_count": 102,
     "metadata": {},
     "output_type": "execute_result"
    }
   ],
   "source": [
    "from sklearn.svm import SVC\n",
    "svclassifier = SVC(kernel='poly', degree=3)\n",
    "svclassifier.fit(X_train, y_train)"
   ]
  },
  {
   "cell_type": "code",
   "execution_count": 103,
   "id": "3128442a",
   "metadata": {},
   "outputs": [],
   "source": [
    "y_pred = svclassifier.predict(X_test)"
   ]
  },
  {
   "cell_type": "code",
   "execution_count": 104,
   "id": "5138fa2b",
   "metadata": {},
   "outputs": [],
   "source": [
    "from sklearn.metrics import classification_report, confusion_matrix"
   ]
  },
  {
   "cell_type": "code",
   "execution_count": 105,
   "id": "5f7f9fb2",
   "metadata": {},
   "outputs": [
    {
     "name": "stdout",
     "output_type": "stream",
     "text": [
      "[[972   0]\n",
      " [ 50   0]]\n",
      "              precision    recall  f1-score   support\n",
      "\n",
      "           0       0.95      1.00      0.97       972\n",
      "           1       0.00      0.00      0.00        50\n",
      "\n",
      "    accuracy                           0.95      1022\n",
      "   macro avg       0.48      0.50      0.49      1022\n",
      "weighted avg       0.90      0.95      0.93      1022\n",
      "\n"
     ]
    },
    {
     "name": "stderr",
     "output_type": "stream",
     "text": [
      "C:\\ProgramData\\Anaconda3\\lib\\site-packages\\sklearn\\metrics\\_classification.py:1245: UndefinedMetricWarning: Precision and F-score are ill-defined and being set to 0.0 in labels with no predicted samples. Use `zero_division` parameter to control this behavior.\n",
      "  _warn_prf(average, modifier, msg_start, len(result))\n",
      "C:\\ProgramData\\Anaconda3\\lib\\site-packages\\sklearn\\metrics\\_classification.py:1245: UndefinedMetricWarning: Precision and F-score are ill-defined and being set to 0.0 in labels with no predicted samples. Use `zero_division` parameter to control this behavior.\n",
      "  _warn_prf(average, modifier, msg_start, len(result))\n",
      "C:\\ProgramData\\Anaconda3\\lib\\site-packages\\sklearn\\metrics\\_classification.py:1245: UndefinedMetricWarning: Precision and F-score are ill-defined and being set to 0.0 in labels with no predicted samples. Use `zero_division` parameter to control this behavior.\n",
      "  _warn_prf(average, modifier, msg_start, len(result))\n"
     ]
    }
   ],
   "source": [
    "print(confusion_matrix(y_test, y_pred))\n",
    "\n",
    "print(classification_report(y_test, y_pred))"
   ]
  },
  {
   "cell_type": "markdown",
   "id": "263295f5",
   "metadata": {},
   "source": [
    "# Accuracy "
   ]
  },
  {
   "cell_type": "code",
   "execution_count": 62,
   "id": "74aef23f",
   "metadata": {},
   "outputs": [
    {
     "data": {
      "text/plain": [
       "0.788"
      ]
     },
     "execution_count": 62,
     "metadata": {},
     "output_type": "execute_result"
    }
   ],
   "source": [
    "from sklearn.metrics import accuracy_score, confusion_matrix\n",
    "accuracy_score(y_test,y_predict).round(3)"
   ]
  },
  {
   "cell_type": "markdown",
   "id": "e6113597",
   "metadata": {},
   "source": [
    "# Confusion Matrix"
   ]
  },
  {
   "cell_type": "code",
   "execution_count": 63,
   "id": "80137766",
   "metadata": {},
   "outputs": [
    {
     "data": {
      "text/plain": [
       "array([[962, 251],\n",
       "       [ 20,  45]], dtype=int64)"
      ]
     },
     "execution_count": 63,
     "metadata": {},
     "output_type": "execute_result"
    }
   ],
   "source": [
    "'''\n",
    "        Predicted\n",
    "        0   1\n",
    "True  0 TN  FP\n",
    "      1 FN  TP\n",
    "\n",
    "'''\n",
    "\n",
    "cm1 = confusion_matrix(y_test,y_predict)\n",
    "cm1"
   ]
  },
  {
   "cell_type": "code",
   "execution_count": 64,
   "id": "55e54c53",
   "metadata": {},
   "outputs": [
    {
     "data": {
      "text/plain": [
       "<AxesSubplot:>"
      ]
     },
     "execution_count": 64,
     "metadata": {},
     "output_type": "execute_result"
    },
    {
     "data": {
      "image/png": "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\n",
      "text/plain": [
       "<Figure size 432x288 with 2 Axes>"
      ]
     },
     "metadata": {},
     "output_type": "display_data"
    }
   ],
   "source": [
    "sns.heatmap(pd.DataFrame(cm1), annot=True, cmap=\"Dark2\" ,linewidths=5, linecolor='black')"
   ]
  },
  {
   "cell_type": "code",
   "execution_count": null,
   "id": "a6ff80c9",
   "metadata": {},
   "outputs": [],
   "source": []
  },
  {
   "cell_type": "markdown",
   "id": "68d5c82d",
   "metadata": {},
   "source": [
    "# Classification Report"
   ]
  },
  {
   "cell_type": "code",
   "execution_count": 106,
   "id": "c38ae1d1",
   "metadata": {},
   "outputs": [
    {
     "ename": "ValueError",
     "evalue": "Found input variables with inconsistent numbers of samples: [1022, 1278]",
     "output_type": "error",
     "traceback": [
      "\u001b[1;31m---------------------------------------------------------------------------\u001b[0m",
      "\u001b[1;31mValueError\u001b[0m                                Traceback (most recent call last)",
      "\u001b[1;32m<ipython-input-106-9cc6cba1b647>\u001b[0m in \u001b[0;36m<module>\u001b[1;34m\u001b[0m\n\u001b[0;32m      1\u001b[0m \u001b[1;32mfrom\u001b[0m \u001b[0msklearn\u001b[0m\u001b[1;33m.\u001b[0m\u001b[0mmetrics\u001b[0m \u001b[1;32mimport\u001b[0m \u001b[0mclassification_report\u001b[0m\u001b[1;33m\u001b[0m\u001b[1;33m\u001b[0m\u001b[0m\n\u001b[1;32m----> 2\u001b[1;33m \u001b[0mprint\u001b[0m\u001b[1;33m(\u001b[0m\u001b[0mclassification_report\u001b[0m\u001b[1;33m(\u001b[0m\u001b[0my_test\u001b[0m\u001b[1;33m,\u001b[0m\u001b[0my_predict\u001b[0m\u001b[1;33m)\u001b[0m\u001b[1;33m)\u001b[0m\u001b[1;33m\u001b[0m\u001b[1;33m\u001b[0m\u001b[0m\n\u001b[0m",
      "\u001b[1;32mC:\\ProgramData\\Anaconda3\\lib\\site-packages\\sklearn\\utils\\validation.py\u001b[0m in \u001b[0;36minner_f\u001b[1;34m(*args, **kwargs)\u001b[0m\n\u001b[0;32m     61\u001b[0m             \u001b[0mextra_args\u001b[0m \u001b[1;33m=\u001b[0m \u001b[0mlen\u001b[0m\u001b[1;33m(\u001b[0m\u001b[0margs\u001b[0m\u001b[1;33m)\u001b[0m \u001b[1;33m-\u001b[0m \u001b[0mlen\u001b[0m\u001b[1;33m(\u001b[0m\u001b[0mall_args\u001b[0m\u001b[1;33m)\u001b[0m\u001b[1;33m\u001b[0m\u001b[1;33m\u001b[0m\u001b[0m\n\u001b[0;32m     62\u001b[0m             \u001b[1;32mif\u001b[0m \u001b[0mextra_args\u001b[0m \u001b[1;33m<=\u001b[0m \u001b[1;36m0\u001b[0m\u001b[1;33m:\u001b[0m\u001b[1;33m\u001b[0m\u001b[1;33m\u001b[0m\u001b[0m\n\u001b[1;32m---> 63\u001b[1;33m                 \u001b[1;32mreturn\u001b[0m \u001b[0mf\u001b[0m\u001b[1;33m(\u001b[0m\u001b[1;33m*\u001b[0m\u001b[0margs\u001b[0m\u001b[1;33m,\u001b[0m \u001b[1;33m**\u001b[0m\u001b[0mkwargs\u001b[0m\u001b[1;33m)\u001b[0m\u001b[1;33m\u001b[0m\u001b[1;33m\u001b[0m\u001b[0m\n\u001b[0m\u001b[0;32m     64\u001b[0m \u001b[1;33m\u001b[0m\u001b[0m\n\u001b[0;32m     65\u001b[0m             \u001b[1;31m# extra_args > 0\u001b[0m\u001b[1;33m\u001b[0m\u001b[1;33m\u001b[0m\u001b[1;33m\u001b[0m\u001b[0m\n",
      "\u001b[1;32mC:\\ProgramData\\Anaconda3\\lib\\site-packages\\sklearn\\metrics\\_classification.py\u001b[0m in \u001b[0;36mclassification_report\u001b[1;34m(y_true, y_pred, labels, target_names, sample_weight, digits, output_dict, zero_division)\u001b[0m\n\u001b[0;32m   1964\u001b[0m     \"\"\"\n\u001b[0;32m   1965\u001b[0m \u001b[1;33m\u001b[0m\u001b[0m\n\u001b[1;32m-> 1966\u001b[1;33m     \u001b[0my_type\u001b[0m\u001b[1;33m,\u001b[0m \u001b[0my_true\u001b[0m\u001b[1;33m,\u001b[0m \u001b[0my_pred\u001b[0m \u001b[1;33m=\u001b[0m \u001b[0m_check_targets\u001b[0m\u001b[1;33m(\u001b[0m\u001b[0my_true\u001b[0m\u001b[1;33m,\u001b[0m \u001b[0my_pred\u001b[0m\u001b[1;33m)\u001b[0m\u001b[1;33m\u001b[0m\u001b[1;33m\u001b[0m\u001b[0m\n\u001b[0m\u001b[0;32m   1967\u001b[0m \u001b[1;33m\u001b[0m\u001b[0m\n\u001b[0;32m   1968\u001b[0m     \u001b[1;32mif\u001b[0m \u001b[0mlabels\u001b[0m \u001b[1;32mis\u001b[0m \u001b[1;32mNone\u001b[0m\u001b[1;33m:\u001b[0m\u001b[1;33m\u001b[0m\u001b[1;33m\u001b[0m\u001b[0m\n",
      "\u001b[1;32mC:\\ProgramData\\Anaconda3\\lib\\site-packages\\sklearn\\metrics\\_classification.py\u001b[0m in \u001b[0;36m_check_targets\u001b[1;34m(y_true, y_pred)\u001b[0m\n\u001b[0;32m     81\u001b[0m     \u001b[0my_pred\u001b[0m \u001b[1;33m:\u001b[0m \u001b[0marray\u001b[0m \u001b[1;32mor\u001b[0m \u001b[0mindicator\u001b[0m \u001b[0mmatrix\u001b[0m\u001b[1;33m\u001b[0m\u001b[1;33m\u001b[0m\u001b[0m\n\u001b[0;32m     82\u001b[0m     \"\"\"\n\u001b[1;32m---> 83\u001b[1;33m     \u001b[0mcheck_consistent_length\u001b[0m\u001b[1;33m(\u001b[0m\u001b[0my_true\u001b[0m\u001b[1;33m,\u001b[0m \u001b[0my_pred\u001b[0m\u001b[1;33m)\u001b[0m\u001b[1;33m\u001b[0m\u001b[1;33m\u001b[0m\u001b[0m\n\u001b[0m\u001b[0;32m     84\u001b[0m     \u001b[0mtype_true\u001b[0m \u001b[1;33m=\u001b[0m \u001b[0mtype_of_target\u001b[0m\u001b[1;33m(\u001b[0m\u001b[0my_true\u001b[0m\u001b[1;33m)\u001b[0m\u001b[1;33m\u001b[0m\u001b[1;33m\u001b[0m\u001b[0m\n\u001b[0;32m     85\u001b[0m     \u001b[0mtype_pred\u001b[0m \u001b[1;33m=\u001b[0m \u001b[0mtype_of_target\u001b[0m\u001b[1;33m(\u001b[0m\u001b[0my_pred\u001b[0m\u001b[1;33m)\u001b[0m\u001b[1;33m\u001b[0m\u001b[1;33m\u001b[0m\u001b[0m\n",
      "\u001b[1;32mC:\\ProgramData\\Anaconda3\\lib\\site-packages\\sklearn\\utils\\validation.py\u001b[0m in \u001b[0;36mcheck_consistent_length\u001b[1;34m(*arrays)\u001b[0m\n\u001b[0;32m    260\u001b[0m     \u001b[0muniques\u001b[0m \u001b[1;33m=\u001b[0m \u001b[0mnp\u001b[0m\u001b[1;33m.\u001b[0m\u001b[0munique\u001b[0m\u001b[1;33m(\u001b[0m\u001b[0mlengths\u001b[0m\u001b[1;33m)\u001b[0m\u001b[1;33m\u001b[0m\u001b[1;33m\u001b[0m\u001b[0m\n\u001b[0;32m    261\u001b[0m     \u001b[1;32mif\u001b[0m \u001b[0mlen\u001b[0m\u001b[1;33m(\u001b[0m\u001b[0muniques\u001b[0m\u001b[1;33m)\u001b[0m \u001b[1;33m>\u001b[0m \u001b[1;36m1\u001b[0m\u001b[1;33m:\u001b[0m\u001b[1;33m\u001b[0m\u001b[1;33m\u001b[0m\u001b[0m\n\u001b[1;32m--> 262\u001b[1;33m         raise ValueError(\"Found input variables with inconsistent numbers of\"\n\u001b[0m\u001b[0;32m    263\u001b[0m                          \" samples: %r\" % [int(l) for l in lengths])\n\u001b[0;32m    264\u001b[0m \u001b[1;33m\u001b[0m\u001b[0m\n",
      "\u001b[1;31mValueError\u001b[0m: Found input variables with inconsistent numbers of samples: [1022, 1278]"
     ]
    }
   ],
   "source": [
    "from sklearn.metrics import classification_report\n",
    "print(classification_report(y_test,y_predict))"
   ]
  },
  {
   "cell_type": "code",
   "execution_count": 107,
   "id": "e5df53a0",
   "metadata": {},
   "outputs": [
    {
     "ename": "ValueError",
     "evalue": "Found input variables with inconsistent numbers of samples: [1022, 1278]",
     "output_type": "error",
     "traceback": [
      "\u001b[1;31m---------------------------------------------------------------------------\u001b[0m",
      "\u001b[1;31mValueError\u001b[0m                                Traceback (most recent call last)",
      "\u001b[1;32m<ipython-input-107-ba895f516b84>\u001b[0m in \u001b[0;36m<module>\u001b[1;34m\u001b[0m\n\u001b[0;32m      4\u001b[0m \u001b[0my_pred_prob\u001b[0m \u001b[1;33m=\u001b[0m \u001b[0mmodel\u001b[0m\u001b[1;33m.\u001b[0m\u001b[0mpredict_proba\u001b[0m\u001b[1;33m(\u001b[0m\u001b[0mX_test_scaled\u001b[0m\u001b[1;33m)\u001b[0m\u001b[1;33m[\u001b[0m\u001b[1;33m:\u001b[0m\u001b[1;33m,\u001b[0m\u001b[1;36m1\u001b[0m\u001b[1;33m]\u001b[0m  \u001b[1;31m# y= one class\u001b[0m\u001b[1;33m\u001b[0m\u001b[1;33m\u001b[0m\u001b[0m\n\u001b[0;32m      5\u001b[0m \u001b[1;33m\u001b[0m\u001b[0m\n\u001b[1;32m----> 6\u001b[1;33m \u001b[0mfpr\u001b[0m\u001b[1;33m,\u001b[0m \u001b[0mtpr\u001b[0m\u001b[1;33m,\u001b[0m \u001b[0mthresholds\u001b[0m \u001b[1;33m=\u001b[0m \u001b[0mroc_curve\u001b[0m\u001b[1;33m(\u001b[0m\u001b[0my_test\u001b[0m\u001b[1;33m,\u001b[0m \u001b[0my_pred_prob\u001b[0m\u001b[1;33m)\u001b[0m \u001b[1;31m# roc curve comes from the sklearn.metrics library\u001b[0m\u001b[1;33m\u001b[0m\u001b[1;33m\u001b[0m\u001b[0m\n\u001b[0m\u001b[0;32m      7\u001b[0m \u001b[1;33m\u001b[0m\u001b[0m\n\u001b[0;32m      8\u001b[0m \u001b[1;31m# here, fpr = false postive rate , tpr = true positive rate (recall/sensitivity)\u001b[0m\u001b[1;33m\u001b[0m\u001b[1;33m\u001b[0m\u001b[1;33m\u001b[0m\u001b[0m\n",
      "\u001b[1;32mC:\\ProgramData\\Anaconda3\\lib\\site-packages\\sklearn\\utils\\validation.py\u001b[0m in \u001b[0;36minner_f\u001b[1;34m(*args, **kwargs)\u001b[0m\n\u001b[0;32m     61\u001b[0m             \u001b[0mextra_args\u001b[0m \u001b[1;33m=\u001b[0m \u001b[0mlen\u001b[0m\u001b[1;33m(\u001b[0m\u001b[0margs\u001b[0m\u001b[1;33m)\u001b[0m \u001b[1;33m-\u001b[0m \u001b[0mlen\u001b[0m\u001b[1;33m(\u001b[0m\u001b[0mall_args\u001b[0m\u001b[1;33m)\u001b[0m\u001b[1;33m\u001b[0m\u001b[1;33m\u001b[0m\u001b[0m\n\u001b[0;32m     62\u001b[0m             \u001b[1;32mif\u001b[0m \u001b[0mextra_args\u001b[0m \u001b[1;33m<=\u001b[0m \u001b[1;36m0\u001b[0m\u001b[1;33m:\u001b[0m\u001b[1;33m\u001b[0m\u001b[1;33m\u001b[0m\u001b[0m\n\u001b[1;32m---> 63\u001b[1;33m                 \u001b[1;32mreturn\u001b[0m \u001b[0mf\u001b[0m\u001b[1;33m(\u001b[0m\u001b[1;33m*\u001b[0m\u001b[0margs\u001b[0m\u001b[1;33m,\u001b[0m \u001b[1;33m**\u001b[0m\u001b[0mkwargs\u001b[0m\u001b[1;33m)\u001b[0m\u001b[1;33m\u001b[0m\u001b[1;33m\u001b[0m\u001b[0m\n\u001b[0m\u001b[0;32m     64\u001b[0m \u001b[1;33m\u001b[0m\u001b[0m\n\u001b[0;32m     65\u001b[0m             \u001b[1;31m# extra_args > 0\u001b[0m\u001b[1;33m\u001b[0m\u001b[1;33m\u001b[0m\u001b[1;33m\u001b[0m\u001b[0m\n",
      "\u001b[1;32mC:\\ProgramData\\Anaconda3\\lib\\site-packages\\sklearn\\metrics\\_ranking.py\u001b[0m in \u001b[0;36mroc_curve\u001b[1;34m(y_true, y_score, pos_label, sample_weight, drop_intermediate)\u001b[0m\n\u001b[0;32m    911\u001b[0m \u001b[1;33m\u001b[0m\u001b[0m\n\u001b[0;32m    912\u001b[0m     \"\"\"\n\u001b[1;32m--> 913\u001b[1;33m     fps, tps, thresholds = _binary_clf_curve(\n\u001b[0m\u001b[0;32m    914\u001b[0m         y_true, y_score, pos_label=pos_label, sample_weight=sample_weight)\n\u001b[0;32m    915\u001b[0m \u001b[1;33m\u001b[0m\u001b[0m\n",
      "\u001b[1;32mC:\\ProgramData\\Anaconda3\\lib\\site-packages\\sklearn\\metrics\\_ranking.py\u001b[0m in \u001b[0;36m_binary_clf_curve\u001b[1;34m(y_true, y_score, pos_label, sample_weight)\u001b[0m\n\u001b[0;32m    691\u001b[0m         \u001b[1;32mraise\u001b[0m \u001b[0mValueError\u001b[0m\u001b[1;33m(\u001b[0m\u001b[1;34m\"{0} format is not supported\"\u001b[0m\u001b[1;33m.\u001b[0m\u001b[0mformat\u001b[0m\u001b[1;33m(\u001b[0m\u001b[0my_type\u001b[0m\u001b[1;33m)\u001b[0m\u001b[1;33m)\u001b[0m\u001b[1;33m\u001b[0m\u001b[1;33m\u001b[0m\u001b[0m\n\u001b[0;32m    692\u001b[0m \u001b[1;33m\u001b[0m\u001b[0m\n\u001b[1;32m--> 693\u001b[1;33m     \u001b[0mcheck_consistent_length\u001b[0m\u001b[1;33m(\u001b[0m\u001b[0my_true\u001b[0m\u001b[1;33m,\u001b[0m \u001b[0my_score\u001b[0m\u001b[1;33m,\u001b[0m \u001b[0msample_weight\u001b[0m\u001b[1;33m)\u001b[0m\u001b[1;33m\u001b[0m\u001b[1;33m\u001b[0m\u001b[0m\n\u001b[0m\u001b[0;32m    694\u001b[0m     \u001b[0my_true\u001b[0m \u001b[1;33m=\u001b[0m \u001b[0mcolumn_or_1d\u001b[0m\u001b[1;33m(\u001b[0m\u001b[0my_true\u001b[0m\u001b[1;33m)\u001b[0m\u001b[1;33m\u001b[0m\u001b[1;33m\u001b[0m\u001b[0m\n\u001b[0;32m    695\u001b[0m     \u001b[0my_score\u001b[0m \u001b[1;33m=\u001b[0m \u001b[0mcolumn_or_1d\u001b[0m\u001b[1;33m(\u001b[0m\u001b[0my_score\u001b[0m\u001b[1;33m)\u001b[0m\u001b[1;33m\u001b[0m\u001b[1;33m\u001b[0m\u001b[0m\n",
      "\u001b[1;32mC:\\ProgramData\\Anaconda3\\lib\\site-packages\\sklearn\\utils\\validation.py\u001b[0m in \u001b[0;36mcheck_consistent_length\u001b[1;34m(*arrays)\u001b[0m\n\u001b[0;32m    260\u001b[0m     \u001b[0muniques\u001b[0m \u001b[1;33m=\u001b[0m \u001b[0mnp\u001b[0m\u001b[1;33m.\u001b[0m\u001b[0munique\u001b[0m\u001b[1;33m(\u001b[0m\u001b[0mlengths\u001b[0m\u001b[1;33m)\u001b[0m\u001b[1;33m\u001b[0m\u001b[1;33m\u001b[0m\u001b[0m\n\u001b[0;32m    261\u001b[0m     \u001b[1;32mif\u001b[0m \u001b[0mlen\u001b[0m\u001b[1;33m(\u001b[0m\u001b[0muniques\u001b[0m\u001b[1;33m)\u001b[0m \u001b[1;33m>\u001b[0m \u001b[1;36m1\u001b[0m\u001b[1;33m:\u001b[0m\u001b[1;33m\u001b[0m\u001b[1;33m\u001b[0m\u001b[0m\n\u001b[1;32m--> 262\u001b[1;33m         raise ValueError(\"Found input variables with inconsistent numbers of\"\n\u001b[0m\u001b[0;32m    263\u001b[0m                          \" samples: %r\" % [int(l) for l in lengths])\n\u001b[0;32m    264\u001b[0m \u001b[1;33m\u001b[0m\u001b[0m\n",
      "\u001b[1;31mValueError\u001b[0m: Found input variables with inconsistent numbers of samples: [1022, 1278]"
     ]
    }
   ],
   "source": [
    "#AUC is the area under the ROC curve\n",
    "\n",
    "from sklearn.metrics import roc_auc_score, roc_curve\n",
    "y_pred_prob = model.predict_proba(X_test_scaled)[:,1]  # y= one class\n",
    "\n",
    "fpr, tpr, thresholds = roc_curve(y_test, y_pred_prob) # roc curve comes from the sklearn.metrics library\n",
    "\n",
    "# here, fpr = false postive rate , tpr = true positive rate (recall/sensitivity)\n",
    "\n",
    "import  matplotlib.pyplot as plt\n",
    "plt.plot(fpr,tpr)\n",
    "plt.xlabel('fpr')\n",
    "plt.ylabel('Recall/ Sensitivity')\n",
    "plt.title('Roc with auc score: {}'.format(roc_auc_score(y_test,y_pred_prob)),fontsize=15)\n",
    "plt.show()"
   ]
  },
  {
   "cell_type": "markdown",
   "id": "792080fa",
   "metadata": {},
   "source": [
    "# K-fold cross validation"
   ]
  },
  {
   "cell_type": "code",
   "execution_count": null,
   "id": "b3399339",
   "metadata": {},
   "outputs": [],
   "source": [
    "from sklearn.model_selection import cross_val_score\n",
    "from sklearn.linear_model import LogisticRegression\n",
    "classifier = LogisticRegression()\n",
    "accuracy = cross_val_score(estimator =classifier, X = X_train, y = y_train,cv = 4)\n"
   ]
  },
  {
   "cell_type": "code",
   "execution_count": null,
   "id": "a586dabd",
   "metadata": {},
   "outputs": [],
   "source": [
    "print ('the accuracy of the model is: ',accuracy.mean().round(3))\n",
    "    "
   ]
  },
  {
   "cell_type": "code",
   "execution_count": null,
   "id": "99bbc250",
   "metadata": {},
   "outputs": [],
   "source": [
    "'''\n",
    "Conclusion : \n",
    "\n",
    "    1. ROC (Receiver Operating Characteristics): The trace of the FRP and TPR rate for different thresholds.Our threshold is \n",
    "       is lies between 0 and 1. As we increase our threshold from 0 to 1, the locas will goes towards (0,0) and vice versa.\n",
    "       Since,our threshold for this test is 0.75 or 75% we can say that,our threshold is lies towards 1.\n",
    "       \n",
    "    2. F1-score is the harmonic mean of percision and recall.\n",
    "\n",
    "    3. Support is the number of counts where patient attack by storke is 65 wheather we have the patient that didn't suffer\n",
    "       by stroke 1213.\n",
    "       \n",
    "    2. The mean performance from a single run of k-fold cross-validation may be noisy.\n",
    "       Repeated k-fold cross-validation provides a way to reduce the error in the estimate of mean model performance.\n",
    "        \n",
    "    2. After observing our K-fold cross validation score,the model is strong enough because the k-fold value that we got is \n",
    "       95.2% .So, We can rely on this model.\n",
    "\n",
    "\n",
    "'''\n",
    "\n"
   ]
  },
  {
   "cell_type": "code",
   "execution_count": null,
   "id": "6c1e72c6",
   "metadata": {},
   "outputs": [],
   "source": [
    "############################################# End of Classification Project ##################################################"
   ]
  }
 ],
 "metadata": {
  "kernelspec": {
   "display_name": "Python 3",
   "language": "python",
   "name": "python3"
  },
  "language_info": {
   "codemirror_mode": {
    "name": "ipython",
    "version": 3
   },
   "file_extension": ".py",
   "mimetype": "text/x-python",
   "name": "python",
   "nbconvert_exporter": "python",
   "pygments_lexer": "ipython3",
   "version": "3.8.8"
  }
 },
 "nbformat": 4,
 "nbformat_minor": 5
}
